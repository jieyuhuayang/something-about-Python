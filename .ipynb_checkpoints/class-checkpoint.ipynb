{
 "cells": [
  {
   "cell_type": "markdown",
   "metadata": {},
   "source": [
    "- 类(Class): 用来描述具有相同的属性和方法的对象的集合。它定义了该集合中每个对象所共有的属性和方法。对象是类的实例。  \n",
    "- 方法：类中定义的函数。  \n",
    "- 类变量：类变量在整个实例化的对象中是公用的。类变量定义在类中且在函数体之外。类变量通常不作为实例变量使用。\n",
    "- 数据成员：类变量或者实例变量用于处理类及其实例对象的相关的数据。\n",
    "\n",
    "- 方法重写：如果从父类继承的方法不能满足子类的需求，可以对其进行改写，这个过程叫方法的覆盖（override），也称为方法的重写。\n",
    "- 局部变量：定义在方法中的变量，只作用于当前实例的类。\n",
    "- 实例变量：在类的声明中，属性是用变量来表示的。这种变量就称为实例变量，是在**类声明的内部但是在类的其他成员方法之外**声明的。  \n",
    "- 继承：即一个派生类（derived class）继承基类（base class）的字段和方法。继承也允许把一个派生类的对象作为一个基类对象对待。例如，有这样一个设计：一个Dog类型的对象派生自Animal类，这是模拟\"是一个（is-a）\"关系（例图，Dog是一个Animal）。  \n",
    "\n",
    "- 实例化：创建一个类的实例，类的具体对象。   \n",
    "- 对象：通过类定义的数据结构实例。对象包括两个数据成员（类变量和实例变量）和方法。"
   ]
  },
  {
   "cell_type": "markdown",
   "metadata": {},
   "source": [
    "class后面紧接着是类名，即Student，**类名通常是*大写开头*的单词**，紧接着是(object)，表示该类是从哪个类继承下来的，继承的概念我们后面再讲，通常，如果没有合适的继承类，就使用object类，这是所有类最终都会继承的类。"
   ]
  },
  {
   "cell_type": "code",
   "execution_count": 30,
   "metadata": {},
   "outputs": [],
   "source": [
    "class Student():\n",
    "    def __init__(self,name,score):\n",
    "        '''一个简单的类实例'''\n",
    "        self.__name=name\n",
    "        self.__score=score\n",
    "    def print_info(self):\n",
    "        '''打印信息'''\n",
    "        print('%s:%d' % (self.__name,self.__score))\n",
    "    def get_grade(self):\n",
    "        '''只打印成绩'''\n",
    "        if self.__score>=90:\n",
    "            return 'excellent'\n",
    "        elif self.score<90 and self.__score>=60:\n",
    "            return 'good'\n",
    "        else: \n",
    "            return 'bad'\n",
    "    def set_grade(self,grade):\n",
    "        if grade>=0 and grade\n",
    "        self.__grade=\n",
    "        \n",
    "    "
   ]
  },
  {
   "attachments": {},
   "cell_type": "markdown",
   "metadata": {},
   "source": [
    "## __init__函数及其他类函数\n",
    "在类中要做的第一件事就是定义 __init__ 函数，通过__init__方法可以定义类属性,__init__方法的第一个参数永远是self，表示创建的实例本身  \n",
    "  \n",
    "和普通的函数相比，在类中定义的函数只有一点不同，就是第一个参数永\n",
    "远是实例变量self，并且，调用时，不用传递该参数。除此之外，类的方法和普通函数没有什么区别，所以，你仍然可以用默认参数、可变参数、关键字参数和命名关键字参数。"
   ]
  },
  {
   "cell_type": "markdown",
   "metadata": {},
   "source": [
    "## 访问限制\n",
    "实例的变量名如果以两个下划线__开头，就变成了一个私有变量（private），只有内部可以访问"
   ]
  },
  {
   "cell_type": "code",
   "execution_count": 34,
   "metadata": {},
   "outputs": [
    {
     "name": "stdout",
     "output_type": "stream",
     "text": [
      "luli:100\n"
     ]
    },
    {
     "data": {
      "text/plain": [
       "'excellent'"
      ]
     },
     "execution_count": 34,
     "metadata": {},
     "output_type": "execute_result"
    }
   ],
   "source": [
    "luli=Student('luli',100)\n",
    "#print(luli.__name)\n",
    "luli.print_info()\n",
    "luli.get_grade()"
   ]
  }
 ],
 "metadata": {
  "kernelspec": {
   "display_name": "Python 3",
   "language": "python",
   "name": "python3"
  },
  "language_info": {
   "codemirror_mode": {
    "name": "ipython",
    "version": 3
   },
   "file_extension": ".py",
   "mimetype": "text/x-python",
   "name": "python",
   "nbconvert_exporter": "python",
   "pygments_lexer": "ipython3",
   "version": "3.6.2"
  }
 },
 "nbformat": 4,
 "nbformat_minor": 2
}
