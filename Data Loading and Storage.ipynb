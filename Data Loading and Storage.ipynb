{
 "cells": [
  {
   "cell_type": "markdown",
   "metadata": {},
   "source": [
    "# 1. Reading and Writing Data in Text Format(读写文本格式的数据)\n",
    "pandas提供了一些用于将表格型数据读取为DataFrame对象的函数，其中read_csv和read_table可能今后用得最多的。这些函数的选项可以划分为以下几个大类：  \n",
    "- Indexing（索引）：将一个或多个列当做返回的DataFrame处理， 以及是否从文件、 用户获取列名；\n",
    "- Type inference and data conversion（类型推断和数据转换）：包括用户定义值的转换、 和自定义的缺失值标记列表等；\n",
    "- Datetime parsing（日期解析）：包括组合功能， 比如将分散在多个列中的日期时间信息组合成结果中的单个列；\n",
    "- Iterating（迭代）：支持对大文件进行逐块迭代；\n",
    "- Unclean data issues（不规整数据问题）：跳过一些行、 页脚、 注释或其他一些不重要的东西（ 比如由成千上万个逗号隔开的数值数据） 。"
   ]
  }
 ],
 "metadata": {
  "kernelspec": {
   "display_name": "Python 3",
   "language": "python",
   "name": "python3"
  },
  "language_info": {
   "codemirror_mode": {
    "name": "ipython",
    "version": 3
   },
   "file_extension": ".py",
   "mimetype": "text/x-python",
   "name": "python",
   "nbconvert_exporter": "python",
   "pygments_lexer": "ipython3",
   "version": "3.6.8"
  }
 },
 "nbformat": 4,
 "nbformat_minor": 2
}
