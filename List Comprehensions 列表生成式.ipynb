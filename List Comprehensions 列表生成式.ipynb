{
 "cells": [
  {
   "cell_type": "code",
   "execution_count": 3,
   "metadata": {},
   "outputs": [
    {
     "name": "stdout",
     "output_type": "stream",
     "text": [
      "[1, 2, 3, 4, 5, 6, 7, 8, 9, 10]\n",
      "\n",
      "生成n的平方的列表 方法一：\n",
      "[1, 4, 9, 16, 25, 36, 49, 64, 81, 100]\n",
      "\n",
      "生成n的平方的列表 方法二(简单)：把要生成的元素放到前面，后面跟for循环和if判断.\n",
      "[1, 4, 9, 16, 25, 36, 49, 64, 81, 100]\n",
      "for 循环后面可以加上if 判断\n",
      "[4, 16, 36, 64, 100]\n",
      "\n",
      "两层for循环: ['AX', 'AY', 'AZ', 'BX', 'BY', 'BZ', 'CX', 'CY', 'CZ']\n"
     ]
    }
   ],
   "source": [
    "print(list(range(1, 11)))\n",
    "\n",
    "\n",
    "print('\\n生成n的平方的列表 方法一：')\n",
    "L = []\n",
    "for x in range(1, 11):\n",
    "    L.append(x * x)\n",
    "print(L)\n",
    "\n",
    "#把要生成的元素放到前面，后面跟for循环和if判断\n",
    "print('\\n生成n的平方的列表 方法二(简单)：把要生成的元素放到前面，后面跟for循环和if判断.')\n",
    "L=[x * x for x in range(1, 11)]\n",
    "print(L)\n",
    "\n",
    "#for 循环后面可以加上if 判断\n",
    "L=[x * x for x in range(1, 11) if x % 2 == 0]\n",
    "print('for 循环后面可以加上if 判断')\n",
    "print(L)\n",
    "\n",
    "print()\n",
    "L=[m + n for m in 'ABC' for n in 'XYZ']\n",
    "print('两层for循环:',L)"
   ]
  },
  {
   "cell_type": "code",
   "execution_count": 7,
   "metadata": {},
   "outputs": [
    {
     "name": "stdout",
     "output_type": "stream",
     "text": [
      "['x=A', 'y=B', 'z=C']\n"
     ]
    }
   ],
   "source": [
    "#使用两个变量来生成list\n",
    "d = {'x': 'A', 'y': 'B', 'z': 'C' }\n",
    "L= [k + '=' + v for k, v in d.items()]\n",
    "print(L)"
   ]
  },
  {
   "cell_type": "code",
   "execution_count": 8,
   "metadata": {},
   "outputs": [
    {
     "name": "stdout",
     "output_type": "stream",
     "text": [
      "['hello', 'world', 'ibm', 'apple']\n"
     ]
    }
   ],
   "source": [
    "# 变量进行函数运算后生成list\n",
    "L = ['Hello', 'World', 'IBM', 'Apple']\n",
    "L = [s.lower() for s in L]\n",
    "print(L)"
   ]
  },
  {
   "cell_type": "code",
   "execution_count": 9,
   "metadata": {},
   "outputs": [
    {
     "name": "stdout",
     "output_type": "stream",
     "text": [
      "['hello', 'world', 'apple']\n"
     ]
    }
   ],
   "source": [
    "L1 = ['Hello', 'World', 18, 'Apple', None]\n",
    "L2 = [x.lower() for x in L1 if(isinstance(x, str))]\n",
    "print(L2)"
   ]
  }
 ],
 "metadata": {
  "kernelspec": {
   "display_name": "Python 3",
   "language": "python",
   "name": "python3"
  },
  "language_info": {
   "codemirror_mode": {
    "name": "ipython",
    "version": 3
   },
   "file_extension": ".py",
   "mimetype": "text/x-python",
   "name": "python",
   "nbconvert_exporter": "python",
   "pygments_lexer": "ipython3",
   "version": "3.6.2"
  }
 },
 "nbformat": 4,
 "nbformat_minor": 2
}
