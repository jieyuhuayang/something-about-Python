{
 "cells": [
  {
   "cell_type": "markdown",
   "metadata": {},
   "source": [
    "- 类(Class): 用来描述具有相同的属性和方法的对象的集合。它定义了该集合中每个对象所共有的属性和方法。对象是类的实例。  \n",
    "- 方法：类中定义的函数。  \n",
    "  \n",
    "  \n",
    "- 类变量：类变量在整个实例化的对象中是**公用的**。类变量定义在类中且在函数体之外。类变量通常不作为实例变量使用。\n",
    "- 实例变量：在类的声明中，属性是用变量来表示的。这种变量就称为实例变量，是在**类声明的内部但是在类的其他成员方法之外**声明的。(在编写程序的时候，千万不要对实例属性和类属性使用相同的名字，因为相同名称的实例属性将屏蔽掉类属性)\n",
    "- 数据成员：类变量或者实例变量用于处理类及其实例对象的相关的数据。\n",
    "  \n",
    "  \n",
    "- 方法重写：如果从父类继承的方法不能满足子类的需求，可以对其进行改写，这个过程叫方法的覆盖（override），也称为方法的重写。\n",
    "- 局部变量：定义在方法中的变量，只作用于当前实例的类。\n",
    "  \n",
    "- 继承：即一个派生类（derived class）继承基类（base class）的字段和方法。继承也允许把一个派生类的对象作为一个基类对象对待。例如，有这样一个设计：一个Dog类型的对象派生自Animal类，这是模拟\"是一个（is-a）\"关系（例图，Dog是一个Animal）。  \n",
    "\n",
    "- 实例化：创建一个类的实例，类的具体对象。   \n",
    "- 对象：通过类定义的数据结构实例。对象包括两个数据成员（类变量和实例变量）和方法。"
   ]
  },
  {
   "cell_type": "markdown",
   "metadata": {},
   "source": [
    "class后面紧接着是类名，即Student，**类名通常是*大写开头*的单词**，紧接着是(object)，表示该类是从哪个类继承下来的，继承的概念我们后面再讲，通常，如果没有合适的继承类，就使用object类，这是所有类最终都会继承的类。"
   ]
  },
  {
   "cell_type": "code",
   "execution_count": 2,
   "metadata": {
    "collapsed": true
   },
   "outputs": [],
   "source": [
    "class Student():\n",
    "    #定义一个类变量统计人数\n",
    "    count=0\n",
    "    def __init__(self,name,score):\n",
    "        '''一个简单的类实例'''\n",
    "        self.__name=name\n",
    "        self.__score=score\n",
    "        Student.count=Student.count+1\n",
    "        \n",
    "    def print_info(self):\n",
    "        '''打印信息'''\n",
    "        print('%s:%d' % (self.__name,self.__score))\n",
    "        print('当前学生数：%d'% Student.count)\n",
    "        \n",
    "    def get_grade(self):\n",
    "        '''只打印成绩'''\n",
    "        if self.__score>=90:\n",
    "            return 'excellent'\n",
    "        elif self.score<90 and self.__score>=60:\n",
    "            return 'good'\n",
    "        else: \n",
    "            return 'bad'\n",
    "        \n",
    "    def set_grade(self,grade):\n",
    "        if grade>=0 and grade<=100:\n",
    "            self.__score=grade\n",
    "        else:\n",
    "            raise ValueEr\n",
    "            ror('bad score')\n",
    "\n",
    "    \n",
    "    \n",
    "    "
   ]
  },
  {
   "cell_type": "markdown",
   "metadata": {},
   "source": [
    "## \\__init\\__函数及其他类函数\n",
    "在类中要做的第一件事就是定义 \\__init\\__ 函数，通过\\__init\\__方法可以定义类属性,\\__init\\__方法的第一个参数永远是self，表示创建的实例本身  \n",
    "  \n",
    "和普通的函数相比，在类中定义的函数只有一点不同，就是第一个参数永\n",
    "远是实例变量self，并且，调用时，不用传递该参数。除此之外，类的方法和普通函数没有什么区别，所以，你仍然可以用默认参数、可变参数、关键字参数和命名关键字参数。"
   ]
  },
  {
   "cell_type": "markdown",
   "metadata": {},
   "source": [
    "## 访问限制\n",
    "实例的变量名如果以两个下划线—开头,就变成了一个私有变量private,只有内部可以访问。   \n",
    "不能从外部访问的原因：**Python解释器对外把\\__name变量改成了_Student\\__name**，所以，仍然可以通过_Student\\__name来访问\\__name变量(强烈建议你不要这么干，因为不同版本的Python解释器可能会把\\__name改成不同的变量名。)  \n",
    "  \n",
    "** 特殊变量 **：类似\\__xxx\\__，也就是以双下划线开头，并且以双下划线结尾的，是特殊变量，特殊变量是可以直接访问的，不是private变量。"
   ]
  },
  {
   "cell_type": "markdown",
   "metadata": {},
   "source": [
    "## 类的私有方法  \n",
    "\\__private_method：两个下划线开头，声明该方法为私有方法，只能在类的内部调用 ，不能在类的外部调用"
   ]
  },
  {
   "cell_type": "code",
   "execution_count": 3,
   "metadata": {
    "scrolled": true
   },
   "outputs": [
    {
     "name": "stdout",
     "output_type": "stream",
     "text": [
      "luli:100\n",
      "当前学生数：1\n",
      "luli:50\n",
      "当前学生数：1\n",
      "luli:50\n",
      "当前学生数：1\n",
      "fool\n",
      "赵校辉:0\n",
      "当前学生数：2\n"
     ]
    }
   ],
   "source": [
    "luli=Student('luli',100)\n",
    "#print(luli.__name)\n",
    "luli.print_info()\n",
    "luli.get_grade()\n",
    "luli.set_grade(50)\n",
    "#luli.set_grade(1000)\n",
    "luli.print_info()\n",
    "\n",
    "# python解释器已经修改了private变量名\n",
    "luli.__name='fool'\n",
    "luli.print_info()\n",
    "print(luli.__name)\n",
    "\n",
    "\n",
    "zxh=Student('赵校辉',0)\n",
    "zxh.print_info()"
   ]
  },
  {
   "cell_type": "markdown",
   "metadata": {},
   "source": [
    "## 继承和多态  \n",
    "在OOP程序设计中，当我们定义一个class的时候，可以从某个现有的class继承，新的class称为子类（Subclass），而被继承的class称为基类、父类或超类（Base class、Super class）。\n",
    "\n",
    "subclass自动拥有super class的全部方法。subclass既可以增加新的方法，也可以重写superclass的方法（这就造成了多态）  \n",
    "  \n",
    "**多态**：\n",
    "  同一操作作用于不同的对象，可以有不同的解释，产生不同的执行结果。  \n",
    "- 多态的意义：**把不同的子类对象都当作父类来看**，可以屏蔽不同子类对象之间的差异，写出通用的代码，做出通用的编程，以适应需求的不断变化。  \n",
    "- eg：比如从某个基类派生出多个子类，其基类有一个虚方法Tdoit，然后其子类也有这个方法，但行为不同"
   ]
  },
  {
   "cell_type": "code",
   "execution_count": 4,
   "metadata": {},
   "outputs": [
    {
     "name": "stdout",
     "output_type": "stream",
     "text": [
      "True\n",
      "True\n",
      "False\n",
      "dog is running\n",
      "cat runs lightly\n",
      "cat runs lightly\n"
     ]
    }
   ],
   "source": [
    "class Animal():\n",
    "    def run(self):\n",
    "        print('animal is running')\n",
    "    def runtwice(self):\n",
    "        self.run()\n",
    "        self.run()\n",
    "        \n",
    "class Dog(Animal):\n",
    "    def run(self):\n",
    "        print('dog is running')\n",
    "\n",
    "class Cat(Animal):\n",
    "    def run(self):\n",
    "        print('cat runs lightly')\n",
    "        \n",
    "class Timer(object):\n",
    "    def run(self):\n",
    "        print('Start...')\n",
    "\n",
    "dog1=Dog()\n",
    "#用isinstance()判断变量是否某一类型\n",
    "print(isinstance(dog1,Dog))\n",
    "print(isinstance(dog1,Animal))\n",
    "print(isinstance(dog1,Timer))\n",
    "dog1.run()\n",
    "\n",
    "cat1=Cat()\n",
    "cat1.runtwice()\n"
   ]
  },
  {
   "cell_type": "markdown",
   "metadata": {},
   "source": [
    "## 运算符重载  \n",
    "类的专有方法：\n",
    "- \\__init\\__ : 构造函数，在生成对象时调用   \n",
    "- \\__del\\__ : 析构函数，释放对象时使用   \n",
    "- \\__cmp\\__: 比较运算  \n",
    "- \\__call\\__: 函数调用    \n",
    "- \\__add\\__: 加运算  \n",
    "- \\__sub\\__: 减运算  \n",
    "- \\__mul\\__: 乘运算  \n",
    "- \\__truediv\\__: 除运算  \n",
    "- \\__mod\\__: 求余运算  \n",
    "- \\__pow\\__: 乘方  \n"
   ]
  },
  {
   "cell_type": "code",
   "execution_count": 7,
   "metadata": {},
   "outputs": [
    {
     "name": "stdout",
     "output_type": "stream",
     "text": [
      "Vector (7, 8)\n",
      "Vector (7, 8)\n"
     ]
    }
   ],
   "source": [
    "class Vector:\n",
    "   def __init__(self, a, b):\n",
    "      self.a = a\n",
    "      self.b = b\n",
    " \n",
    "   def __str__(self):\n",
    "      return 'Vector (%d, %d)' % (self.a, self.b)\n",
    "   \n",
    "   def __add__(self,other):\n",
    "      return Vector(self.a + other.a, self.b + other.b)\n",
    "\n",
    "a=2\n",
    "b=10\n",
    "v1 = Vector(a,b)\n",
    "v2 = Vector(5,-2)\n",
    "print (v1 + v2)\n",
    "a=0\n",
    "print(v1+v2)"
   ]
  },
  {
   "cell_type": "markdown",
   "metadata": {},
   "source": [
    "## type(),isinstance(),dir()获取对象信息\n",
    "  \n",
    "### - type() \n",
    "1. 基本类型都可以用type()判断\n",
    "2. 如果一个变量指向**函数**或者**类**，也可以用type()判断：  \n",
    "  \n",
    "### - isinstance()\n",
    "\n",
    "### - dir()获得一个对象的所有属性和方法,返回一个包含字符串的list\n",
    "类似__xxx__的属性和方法在Python中都是有特殊用途的，比如__len__方法返回长度。在Python中，如果你调用len()函数试图获取一个对象的长度，实际上，在len()函数内部，它自动去调用该对象的__len__()方法，所以，下面的代码是等价的：\n",
    "```python\n",
    ">>> len('ABC')\n",
    "3\n",
    ">>> 'ABC'.__len__()\n",
    "3\n",
    "```\n",
    "仅仅把属性和方法列出来是不够的，配合getattr()、setattr()以及hasattr()，我们可以直接操作一个对象的状态：  \n",
    "```python\n",
    ">>> class MyObject(object):\n",
    "...     def __init__(self):\n",
    "...         self.x = 9\n",
    "...     def power(self):\n",
    "...         return self.x * self.x\n",
    "...\n",
    ">>> obj = MyObject()\n",
    "```\n",
    "- 测试该对象的属性:  \n",
    "```python\n",
    ">>> hasattr(obj, 'x') # 有属性'x'吗？\n",
    "True\n",
    ">>> obj.x\n",
    "9\n",
    ">>> hasattr(obj, 'y') # 有属性'y'吗？\n",
    "False\n",
    ">>> setattr(obj, 'y', 19) # 设置一个属性'y'\n",
    ">>> hasattr(obj, 'y') # 有属性'y'吗？\n",
    "True\n",
    ">>> getattr(obj, 'y') # 获取属性'y'\n",
    "19\n",
    ">>> obj.y # 获取属性'y'\n",
    "19\n",
    "```\n",
    "- 获得对象的方法:  \n",
    "```python\n",
    ">>> hasattr(obj, 'power') # 有属性'power'吗？\n",
    "True\n",
    ">>> getattr(obj, 'power') # 获取属性'power'\n",
    "<bound method MyObject.power of <__main__.MyObject object at 0x10077a6a0>>\n",
    ">>> fn = getattr(obj, 'power') # 获取属性'power'并赋值到变量fn\n",
    ">>> fn # fn指向obj.power\n",
    "<bound method MyObject.power of <__main__.MyObject object at 0x10077a6a0>>\n",
    ">>> fn() # 调用fn()与调用obj.power()是一样的\n",
    "81\n",
    "```"
   ]
  },
  {
   "cell_type": "code",
   "execution_count": 62,
   "metadata": {
    "scrolled": true
   },
   "outputs": [
    {
     "name": "stdout",
     "output_type": "stream",
     "text": [
      "<class 'int'>\n",
      "<class 'str'>\n",
      "<class 'builtin_function_or_method'>\n",
      "<class 'function'>\n",
      "<class '__main__.Dog'>\n",
      "True\n",
      "True\n",
      "['__add__', '__class__', '__contains__', '__delattr__', '__dir__', '__doc__', '__eq__', '__format__', '__ge__', '__getattribute__', '__getitem__', '__getnewargs__', '__gt__', '__hash__', '__init__', '__init_subclass__', '__iter__', '__le__', '__len__', '__lt__', '__mod__', '__mul__', '__ne__', '__new__', '__reduce__', '__reduce_ex__', '__repr__', '__rmod__', '__rmul__', '__setattr__', '__sizeof__', '__str__', '__subclasshook__', 'capitalize', 'casefold', 'center', 'count', 'encode', 'endswith', 'expandtabs', 'find', 'format', 'format_map', 'index', 'isalnum', 'isalpha', 'isdecimal', 'isdigit', 'isidentifier', 'islower', 'isnumeric', 'isprintable', 'isspace', 'istitle', 'isupper', 'join', 'ljust', 'lower', 'lstrip', 'maketrans', 'partition', 'replace', 'rfind', 'rindex', 'rjust', 'rpartition', 'rsplit', 'rstrip', 'split', 'splitlines', 'startswith', 'strip', 'swapcase', 'title', 'translate', 'upper', 'zfill']\n"
     ]
    }
   ],
   "source": [
    "def f():\n",
    "    pass\n",
    "print(type(123))\n",
    "print(type('str'))\n",
    "print(type(abs))\n",
    "print(type(f))\n",
    "print(type(dog1))\n",
    "\n",
    "\n",
    "# isinstance\n",
    "print(isinstance('a', str))\n",
    "print(isinstance(dog1,Dog))\n",
    "\n",
    "# dir\n",
    "print(dir('abc'))"
   ]
  }
 ],
 "metadata": {
  "kernelspec": {
   "display_name": "Python 3",
   "language": "python",
   "name": "python3"
  },
  "language_info": {
   "codemirror_mode": {
    "name": "ipython",
    "version": 3
   },
   "file_extension": ".py",
   "mimetype": "text/x-python",
   "name": "python",
   "nbconvert_exporter": "python",
   "pygments_lexer": "ipython3",
   "version": "3.6.8"
  }
 },
 "nbformat": 4,
 "nbformat_minor": 2
}
