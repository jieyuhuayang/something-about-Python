{
 "cells": [
  {
   "cell_type": "code",
   "execution_count": 17,
   "metadata": {},
   "outputs": [
    {
     "name": "stdout",
     "output_type": "stream",
     "text": [
      "this is two\n",
      "打印出完整字典： {'name': 'john', 'code': 1000, 'gender': 'male'}\n",
      "打印出所有键： dict_keys(['name', 'code', 'gender'])\n",
      "打印出所有值： dict_values(['john', 1000, 'male'])\n"
     ]
    }
   ],
   "source": [
    "dict={}\n",
    "dict['one']='this is one'\n",
    "dict[2]='this is two'\n",
    "tinydict={'name':'john','code':1000,'gender':'male'}\n",
    "\n",
    "print(dict[2])\n",
    "print('打印出完整字典：',tinydict)\n",
    "print('打印出所有键：',tinydict.keys())\n",
    "print('打印出所有值：',tinydict.values())"
   ]
  },
  {
   "attachments": {},
   "cell_type": "markdown",
   "metadata": {},
   "source": [
    "如果key不存在会发生错误，有两种办法：  \n",
    "- 是通过in判断key是否存在：\n",
    "```python\n",
    ">>> 'Thomas' in d\n",
    "False \n",
    "```\n",
    "- 通过dict提供的get方法，如果key不存在，可以返回None，或者自己指定的value\n",
    "```python\n",
    ">>> d.get('Thomas')\n",
    ">>> d.get('Thomas', -1)\n",
    "-1\n",
    "```\n",
    "注意：返回None的时候Python的交互环境不显示结果\n"
   ]
  },
  {
   "cell_type": "code",
   "execution_count": 11,
   "metadata": {},
   "outputs": [
    {
     "name": "stdout",
     "output_type": "stream",
     "text": [
      "False\n"
     ]
    },
    {
     "data": {
      "text/plain": [
       "-1"
      ]
     },
     "execution_count": 11,
     "metadata": {},
     "output_type": "execute_result"
    }
   ],
   "source": [
    "print('Thomas' in dict)\n",
    "dict.get('Thomas',-1)"
   ]
  },
  {
   "cell_type": "markdown",
   "metadata": {},
   "source": [
    "# 删除key\n"
   ]
  },
  {
   "cell_type": "code",
   "execution_count": 18,
   "metadata": {},
   "outputs": [
    {
     "name": "stdout",
     "output_type": "stream",
     "text": [
      "{'one': 'this is one'}\n"
     ]
    }
   ],
   "source": [
    "if 2 in dict:\n",
    "    del dict[2]\n",
    "print(dict)"
   ]
  },
  {
   "cell_type": "markdown",
   "metadata": {},
   "source": [
    "# the itration of dict"
   ]
  },
  {
   "cell_type": "code",
   "execution_count": 24,
   "metadata": {},
   "outputs": [
    {
     "name": "stdout",
     "output_type": "stream",
     "text": [
      "A person has 2 legs\n",
      "A cat has 4 legs\n",
      "A spider has 8 legs\n",
      "\n",
      "如果你想要访问键和对应的值，那就使用items方法：\n",
      "A person has 2 legs\n",
      "A cat has 4 legs\n",
      "A spider has 8 legs\n"
     ]
    }
   ],
   "source": [
    "d = {'person': 2, 'cat': 4, 'spider': 8}\n",
    "for animal in d:\n",
    "    legs = d[animal]\n",
    "    print ('A %s has %d legs' % (animal, legs))\n",
    "    \n",
    "print()\n",
    "print(\"如果你想要访问键和对应的值，那就使用items方法：\")\n",
    "for animal, legs in d.items():\n",
    "    print ('A %s has %d legs' % (animal, legs))"
   ]
  },
  {
   "cell_type": "markdown",
   "metadata": {},
   "source": [
    "# Dictionary comprehensions 字典生成式"
   ]
  },
  {
   "cell_type": "code",
   "execution_count": 25,
   "metadata": {},
   "outputs": [
    {
     "name": "stdout",
     "output_type": "stream",
     "text": [
      "{0: 0, 2: 4, 4: 16, 6: 36}\n"
     ]
    }
   ],
   "source": [
    "nums=[0,1,2,3,4,5,6]\n",
    "even_num_to_square = {x:x**2 for x in nums if x%2==0}\n",
    "print(even_num_to_square)"
   ]
  }
 ],
 "metadata": {
  "kernelspec": {
   "display_name": "Python 3",
   "language": "python",
   "name": "python3"
  },
  "language_info": {
   "codemirror_mode": {
    "name": "ipython",
    "version": 3
   },
   "file_extension": ".py",
   "mimetype": "text/x-python",
   "name": "python",
   "nbconvert_exporter": "python",
   "pygments_lexer": "ipython3",
   "version": "3.6.2"
  }
 },
 "nbformat": 4,
 "nbformat_minor": 2
}
