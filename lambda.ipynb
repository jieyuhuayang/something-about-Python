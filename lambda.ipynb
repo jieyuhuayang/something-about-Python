{
 "cells": [
  {
   "cell_type": "markdown",
   "metadata": {},
   "source": [
    "lambda语法形式：```lambda argument_list: expression```  \n",
    "- argument_list是参数列表:可以有非常多的形式。例如：a,b ; a=1, b=2 ; *args ; **kwargs ; a, b=1, *args  \n",
    "- expression是一个关于参数的**单行**表达式。eg： sum(a) ; 1 if a >10 else 0"
   ]
  },
  {
   "cell_type": "code",
   "execution_count": null,
   "metadata": {
    "collapsed": true
   },
   "outputs": [],
   "source": []
  }
 ],
 "metadata": {
  "kernelspec": {
   "display_name": "Python 3",
   "language": "python",
   "name": "python3"
  },
  "language_info": {
   "codemirror_mode": {
    "name": "ipython",
    "version": 3
   },
   "file_extension": ".py",
   "mimetype": "text/x-python",
   "name": "python",
   "nbconvert_exporter": "python",
   "pygments_lexer": "ipython3",
   "version": "3.6.8"
  }
 },
 "nbformat": 4,
 "nbformat_minor": 2
}
