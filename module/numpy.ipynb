{
 "cells": [
  {
   "cell_type": "markdown",
   "metadata": {},
   "source": [
    "# numpy practice"
   ]
  },
  {
   "cell_type": "code",
   "execution_count": 2,
   "metadata": {
    "collapsed": true
   },
   "outputs": [],
   "source": [
    "import numpy as np"
   ]
  },
  {
   "cell_type": "markdown",
   "metadata": {},
   "source": [
    "## 1. numpy & pandas 的优点\n",
    "- 运算速度快：numpy 和 pandas 都是采用 C 语言编写, pandas 又是基于 numpy, 是 numpy 的升级版本，会比 python 自带的字典或者列表快好多。\n",
    "- 消耗资源少：NumPy是在一个连续的内存块中存储数据， 独立于其他Python内置对象，NumPy的C语言编写的算法库可以操作内存， 而不必进行类型检查或其它前期工作。 比起Python的内置序列， NumPy数组使用的内存更少。"
   ]
  },
  {
   "cell_type": "code",
   "execution_count": 11,
   "metadata": {},
   "outputs": [
    {
     "name": "stdout",
     "output_type": "stream",
     "text": [
      "1000000\n",
      "1000000\n"
     ]
    }
   ],
   "source": [
    "my_arr = np.arange(1000000)\n",
    "my_list = list(range(1000000))\n",
    "print(my_arr.size)\n",
    "print(len(my_list))\n",
    "# 各个序列分别乘以2"
   ]
  },
  {
   "cell_type": "code",
   "execution_count": 12,
   "metadata": {},
   "outputs": [
    {
     "name": "stdout",
     "output_type": "stream",
     "text": [
      "Wall time: 34.2 ms\n"
     ]
    }
   ],
   "source": [
    "%%time \n",
    "# 基于numpy\n",
    "for i in range(10):\n",
    "    my_arr = my_arr*2"
   ]
  },
  {
   "cell_type": "code",
   "execution_count": 13,
   "metadata": {},
   "outputs": [
    {
     "name": "stdout",
     "output_type": "stream",
     "text": [
      "Wall time: 1.34 s\n"
     ]
    }
   ],
   "source": [
    "%%time \n",
    "# 基于python\n",
    "for i in range(10):\n",
    "    my_list = [x*2 for x in my_list]"
   ]
  },
  {
   "cell_type": "markdown",
   "metadata": {},
   "source": [
    "## 2. numpy 里的数据类型\n",
    "其实数组中的数据类型可以不唯一\n",
    "\n",
    "|基本类型|可用的**Numpy**类型|备注\n",
    "|--|--|--\n",
    "|布尔型|`bool`|占1个字节\n",
    "|整型|`int8, int16, int32, int64, int128, int`| `int` 跟**C**语言中的 `long` 一样大\n",
    "|无符号整型|`uint8, uint16, uint32, uint64, uint128, uint`| `uint` 跟**C**语言中的 `unsigned long` 一样大\n",
    "|浮点数| `float16, float32, float64, float, longfloat`|默认为双精度 `float64` ，`longfloat` 精度大小与系统有关\n",
    "|复数| `complex64, complex128, complex, longcomplex`| 默认为 `complex128` ，即实部虚部都为双精度\n",
    "|字符串| `string, unicode` | 可以使用 `dtype=S4` 表示一个4字节字符串的数组\n",
    "|对象| `object` |数组中可以使用任意值|\n",
    "|Records| `void` ||\n",
    "|时间| `datetime64, timedelta64` ||  \n",
    "\n",
    "### 2.1 使用ndarray的astype方法对数据类型进行转换\n",
    "**注意**：astype总会创建一个新的数组(a copy of the data)\n",
    "#### 整数转浮点"
   ]
  },
  {
   "cell_type": "code",
   "execution_count": 2,
   "metadata": {},
   "outputs": [
    {
     "name": "stdout",
     "output_type": "stream",
     "text": [
      "int32\n",
      "float64\n"
     ]
    }
   ],
   "source": [
    "# 整数转浮点\n",
    "arr = np.array([1, 2, 3, 4, 5])\n",
    "print(arr.dtype)\n",
    "float_arr = arr.astype(np.float64)\n",
    "print(float_arr.dtype)"
   ]
  },
  {
   "cell_type": "markdown",
   "metadata": {},
   "source": [
    "#### 浮点数转换成整数\n",
    "小数部分将会被截取删除\n",
    "  \n",
    "#### 字符串转数字"
   ]
  },
  {
   "cell_type": "code",
   "execution_count": 6,
   "metadata": {},
   "outputs": [
    {
     "name": "stdout",
     "output_type": "stream",
     "text": [
      "<U4\n",
      "['1.22' '333' '34.4']\n",
      "float64\n",
      "[  1.22 333.    34.4 ]\n"
     ]
    }
   ],
   "source": [
    "numerical_string = np.array(['1.22','333','34.4'])\n",
    "print(numerical_string.dtype)\n",
    "print(numerical_string)\n",
    "\n",
    "num = numerical_string.astype(float)\n",
    "print(num.dtype)\n",
    "print(num)"
   ]
  },
  {
   "cell_type": "markdown",
   "metadata": {},
   "source": [
    "## 3. ndarray 属性\n",
    "NumPy最重要的一个特点就是其N维数组对象（ 即ndarray）,该对象是一个快速而灵活的大数据集容器。 你可以利用这种数组对整块数据执行一些数学运算， 其语法跟标量元素之间的运算一样。  \n",
    "ndarray是一个通用的同构数据多维容器， 也就是说， 其中的所有元素必须是相同类型的。 \n",
    "**每个数组都有一个shape（ 一个表示各维度大小的元组） 和一个dtype（ 一个用于说明数组数据类型的对象） ：**"
   ]
  },
  {
   "cell_type": "code",
   "execution_count": 1,
   "metadata": {},
   "outputs": [
    {
     "name": "stdout",
     "output_type": "stream",
     "text": [
      "[[1 2 4]\n",
      " [1 3 3]\n",
      " [2 2 3]]\n",
      "<class 'numpy.ndarray'>\n",
      "矩阵维度：number of dim： 2\n",
      "矩阵的shape： (3, 3)\n",
      "元素的个数： 9\n",
      "查看每个元素所占字节： 4\n"
     ]
    }
   ],
   "source": [
    "import numpy as np\n",
    "import matplotlib.pyplot as plt\n",
    "%matplotlib inline\n",
    "#列表转化为矩阵\n",
    "array=np.array([[1,2,4],[1,3,3],[2,2,3]]) \n",
    "print(array)\n",
    "print(type(array))\n",
    "print(\"矩阵维度：number of dim：\",array.ndim) #矩阵维度\n",
    "print(\"矩阵的shape：\",array.shape)#行数和列数\n",
    "print(\"元素的个数：\",array.size)#矩阵的元素个数\n",
    "print(\"查看每个元素所占字节：\",array.itemsize)"
   ]
  },
  {
   "cell_type": "markdown",
   "metadata": {},
   "source": [
    "## 4. 创建ndarray\n",
    "### 4.1 使用array函数创建ndarray\n",
    "np.array会尝试为新建的这个数组推断出一个较为合适的数据类型,当然也可以直接指定数据类型"
   ]
  },
  {
   "cell_type": "code",
   "execution_count": 14,
   "metadata": {},
   "outputs": [
    {
     "name": "stdout",
     "output_type": "stream",
     "text": [
      "np.array([1,2,3])= [1 2 3]\n",
      "\n",
      "------------指定数据类型(精确度与内存之间的取舍!---------\n",
      "np.array([1,1,2],dtype=np.int)默认64位int： [1 1 2]\n",
      "np.array([1,1,2],dtype=np.int32) 输出32位int： [1 1 2]\n",
      "a=np.array([2,23,4],dtype=np.float)，a.dtype= float64\n"
     ]
    }
   ],
   "source": [
    "print(\"------------自动选择数据类型---------\")\n",
    "a=np.array([1,2,3])\n",
    "print(\"np.array([1,2,3])=\",a)\n",
    "print(\"a.dtype=\",a.dtype)\n",
    "print()\n",
    "\n",
    "#--------------------------------------------------------------------------指定数据类型(精确度与内存之间的取舍!------------\n",
    "print(\"------------指定数据类型(精确度与内存之间的取舍!---------\")\n",
    "a1=np.array([1,1,2],dtype=np.int)\n",
    "print(\"np.array([1,1,2],dtype=np.int)默认64位int：\",a1)\n",
    "\n",
    "a2=np.array([1,1,2],dtype=np.int32)\n",
    "print(\"np.array([1,1,2],dtype=np.int32) 输出32位int：\",a1)\n",
    "\n",
    "a = np.array([2,23,4],dtype=np.float)\n",
    "print(\"a=np.array([2,23,4],dtype=np.float)，a.dtype=\",a.dtype)"
   ]
  },
  {
   "cell_type": "markdown",
   "metadata": {},
   "source": [
    "### 4.2 使用其他函数创建ndarray"
   ]
  },
  {
   "cell_type": "code",
   "execution_count": 15,
   "metadata": {},
   "outputs": [
    {
     "name": "stdout",
     "output_type": "stream",
     "text": [
      "--------------创建特定数据---------------\n",
      "-----zeros()函数\n",
      "np.zeros((3,4)): [[0. 0. 0. 0.]\n",
      " [0. 0. 0. 0.]\n",
      " [0. 0. 0. 0.]] ,tmp.dtype: float64\n",
      "\n",
      "-----ones()函数\n",
      "np.ones((3,4),dtype=np.int)=\n",
      "[[1 1 1 1]\n",
      " [1 1 1 1]\n",
      " [1 1 1 1]]\n",
      "\n",
      "-----empty()函数\n",
      "tmp=np.empty((3,4))= [[0. 0. 0. 0.]\n",
      " [0. 0. 0. 0.]\n",
      " [0. 0. 0. 0.]] tmp.dtype: float64\n",
      "\n",
      "-----arange()函数\n",
      "tmp=np.arange(10,20,2)= [10 12 14 16 18] 前闭后开区间\n",
      "np.arange(10)= [0 1 2 3 4 5 6 7 8 9] 从0开始10个整数\n",
      "np.arange(14,2, -1)= [14 13 12 11 10  9  8  7  6  5  4  3]\n",
      "\n",
      "-----reshape()函数\n",
      "reshape 1*10数据的形状：np.arange(10).reshape((2,5))= [[0 1 2 3 4]\n",
      " [5 6 7 8 9]]\n",
      "\n",
      "-----linespace()函数\n",
      "np.linspace(1,10,20):\n",
      "[ 1.          1.47368421  1.94736842  2.42105263  2.89473684  3.36842105\n",
      "  3.84210526  4.31578947  4.78947368  5.26315789  5.73684211  6.21052632\n",
      "  6.68421053  7.15789474  7.63157895  8.10526316  8.57894737  9.05263158\n",
      "  9.52631579 10.        ]\n"
     ]
    }
   ],
   "source": [
    "#---------------------创建特定数据---------------\n",
    "print(\"--------------创建特定数据---------------\")\n",
    "#数据全为0，3行4列\n",
    "print(\"-----zeros()函数\")\n",
    "tmp=np.zeros((3,4))\n",
    "print(\"np.zeros((3,4)):\",tmp,\",tmp.dtype:\",tmp.dtype)\n",
    "print()\n",
    "\n",
    "#创建全一数组, 同时也能指定这些特定数据的 dtype\n",
    "print(\"-----ones()函数\")\n",
    "tmp=np.ones((3,4),dtype=np.int)\n",
    "print('np.ones((3,4),dtype=np.int)=')\n",
    "print(tmp)\n",
    "print()\n",
    "\n",
    "#创建全空数组, 其实每个值都是接近于零的数:\n",
    "print(\"-----empty()函数\")\n",
    "tmp=np.empty((3,4))\n",
    "print(\"tmp=np.empty((3,4))=\",tmp,\"tmp.dtype:\",tmp.dtype)\n",
    "print()\n",
    "\n",
    "#用 arange 创建连续数组\n",
    "print(\"-----arange()函数\")\n",
    "tmp=np.arange(10,20,2)#10-19 的数据，2步长    ## 前闭后开区间\n",
    "print(\"tmp=np.arange(10,20,2)=\",tmp,\"前闭后开区间\")\n",
    "tmp=np.arange(10)#从0开始10个整数\n",
    "print(\"np.arange(10)=\",tmp,\"从0开始10个整数\")\n",
    "tmp=np.arange(14,2, -1)\n",
    "print(\"np.arange(14,2, -1)=\",np.arange(14,2, -1))\n",
    "print()\n",
    "\n",
    "print(\"-----reshape()函数\")\n",
    "print(\"reshape 1*10数据的形状：np.arange(10).reshape((2,5))=\",np.arange(10).reshape((2,5)))\n",
    "print()\n",
    "\n",
    "    #用 linspace 创建线段型数据:开始端1，结束端10，且分割出20个数据点\n",
    "print(\"-----linespace()函数\")\n",
    "tmp=np.linspace(1,10,20)\n",
    "print(\"np.linspace(1,10,20):\")\n",
    "print(tmp)"
   ]
  },
  {
   "cell_type": "markdown",
   "metadata": {},
   "source": [
    "## 5. Numpy Array运算\n",
    "numpy一大优点是不用编写循环即可对数据执行批量运算，NumPy用户称其为vectorization：大小相等的数组之间的任何算术运算都会将运算应用到元素级：\n",
    "### 5.1 加减乘除-幂-三角函数"
   ]
  },
  {
   "cell_type": "code",
   "execution_count": 9,
   "metadata": {},
   "outputs": [
    {
     "name": "stdout",
     "output_type": "stream",
     "text": [
      "a: [1 2 3 4]\n",
      "b: [0 1 2 3]\n",
      "a-b= [1 1 1 1]\n",
      "与标量做加法：a+1= [2 3 4 5]\n",
      "a*b= [ 0  2  6 12]\n",
      "\n",
      "与标量做除法：1/a= [1.         0.5        0.33333333 0.25      ]\n",
      "\n",
      "b的3次方b**3： [ 0  1  8 27]\n",
      "c=np.sin(b)*10= [0.         8.41470985 9.09297427 1.41120008]\n"
     ]
    }
   ],
   "source": [
    "# 加减乘除-幂-三角函数\n",
    "a=np.array([1,2,3,4])\n",
    "b=np.arange(4)\n",
    "print('a:',a)\n",
    "print('b:',b)\n",
    "\n",
    "print(\"a-b=\",a-b)\n",
    "print(\"与标量做加法：a+1=\",a+1)\n",
    "\n",
    "# 乘法\n",
    "print(\"a*b=\",a*b)\n",
    "print()\n",
    "\n",
    "# 除法\n",
    "print('与标量做除法：1/a=',1/a)\n",
    "print()\n",
    "\n",
    "# 幂的表示是**\n",
    "print(\"b的3次方b**3：\",b**3)\n",
    "\n",
    "#三角函数运算\n",
    "c=10*np.sin(b)\n",
    "print(\"c=np.sin(b)*10=\",c)"
   ]
  },
  {
   "cell_type": "markdown",
   "metadata": {},
   "source": [
    "### 5.2 比较操作\n",
    "Operations between differently sized arrays is called broadcasting. "
   ]
  },
  {
   "cell_type": "code",
   "execution_count": 10,
   "metadata": {},
   "outputs": [
    {
     "name": "stdout",
     "output_type": "stream",
     "text": [
      "np.sin(c)*10>3 ? [False  True  True False]\n"
     ]
    }
   ],
   "source": [
    "#矩阵与某个值比较并返回bool值\n",
    "print(\"np.sin(c)*10>3 ?\",c>3)\n"
   ]
  },
  {
   "cell_type": "markdown",
   "metadata": {},
   "source": [
    "### 5.3 Indexing and Slicing（索引和切片）\n",
    "#### 一维数组索引和切片\n",
    "切片是前闭后开区间"
   ]
  },
  {
   "cell_type": "code",
   "execution_count": 34,
   "metadata": {},
   "outputs": [
    {
     "name": "stdout",
     "output_type": "stream",
     "text": [
      "[5 6 7]\n",
      "\n",
      "给slice赋值该值会自动传播到整个选区，并且会直接反映到源数组上\n",
      "[0 1 2 3 4 0 0 0 8 9]\n"
     ]
    }
   ],
   "source": [
    "arr1 = np.arange(10)\n",
    "print(arr1[5:8])\n",
    "print()\n",
    "\n",
    "\n",
    "\n",
    "print('给slice赋值该值会自动传播到整个选区，并且会直接反映到源数组上')\n",
    "arr1[5:8]=0\n",
    "print(arr1)"
   ]
  },
  {
   "cell_type": "markdown",
   "metadata": {},
   "source": [
    "#### 多维数组索引和切片"
   ]
  },
  {
   "cell_type": "code",
   "execution_count": 37,
   "metadata": {},
   "outputs": [
    {
     "name": "stdout",
     "output_type": "stream",
     "text": [
      "arr2:\n",
      "[[ 2  3  4  5]\n",
      " [ 6  7  8  9]\n",
      " [10 11 12 13]]\n",
      "\n",
      "多维数组一维切片arr2[1:3]:\n",
      "[[ 6  7  8  9]\n",
      " [10 11 12 13]]\n",
      "\n",
      "多维数组多维切片arr2[:3,1:]:\n",
      "[[ 3  4  5]\n",
      " [ 7  8  9]\n",
      " [11 12 13]]\n",
      "\n",
      "索引选取单个元素的两种方式：\n",
      "arr2[2,2]= 12\n",
      "arr2[2][2]= 12\n"
     ]
    }
   ],
   "source": [
    "arr2 = np.arange(2,14).reshape((3,4))\n",
    "print('arr2:')\n",
    "print(arr2)\n",
    "print()\n",
    "\n",
    "print('多维数组一维切片arr2[1:3]:')\n",
    "print(arr2[1:3])\n",
    "print()\n",
    "\n",
    "print('多维数组多维切片arr2[:3,1:]:')\n",
    "print(arr2[:3,1:])\n",
    "print()\n",
    "\n",
    "print('索引选取单个元素的两种方式：')\n",
    "print('arr2[2,2]=',arr2[2,2])\n",
    "print('arr2[2][2]=',arr2[2][2])"
   ]
  },
  {
   "cell_type": "code",
   "execution_count": 5,
   "metadata": {},
   "outputs": [
    {
     "name": "stdout",
     "output_type": "stream",
     "text": [
      "a: [1 2 3 4]\n",
      "b: [0 1 2 3]\n",
      "a-b= [1 1 1 1]\n",
      "a+1= [2 3 4 5]\n",
      "a*b= [ 0  2  6 12]\n",
      "\n",
      "b的3次方b**3： [ 0  1  8 27]\n",
      "c=np.sin(b)*10= [0.         8.41470985 9.09297427 1.41120008]\n",
      "\n",
      "np.sin(c)*10>3 ? [False  True  True False]\n",
      "(---------------矩阵部分----------------\n",
      "a: [[1 1]\n",
      " [0 1]]\n",
      "b: [[1 2]\n",
      " [3 4]]\n",
      "\n",
      "dot函数：当两个参数都为一维数组时，计算的是点积；当两个参数是二维数组时，计算的是矩阵乘积\n",
      "np.dot(a,b):\n",
      " [[4 6]\n",
      " [3 4]]\n",
      "a*b的两个矩阵行列大小必须一致\n",
      "c=a*b=\n",
      " [[1 2]\n",
      " [0 4]]\n",
      "np.sum(c)： 7\n",
      "求最大值np.max(c)： 4\n",
      "\n",
      "以行或列为单位求和 以及 查找极值：\n",
      "axis的值为0的时候，将会以列作为查找单元:\n",
      "np.sum(c,axis=0)= [1 6]\n",
      "\n",
      "axis的值为1的时候，将会以行作为查找单元:\n",
      "np.max(c,axis=1) = [2 4]\n",
      "-----------\n",
      "全部元素的乘积 b.prod()= 24\n"
     ]
    }
   ],
   "source": [
    "\n",
    "print('(---------------矩阵部分----------------')\n",
    "#创建一个二维矩阵\n",
    "a=np.array([[1,1],[0,1]])\n",
    "b=np.arange(1,5).reshape((2,2))\n",
    "print(\"a:\",a)\n",
    "print(\"b:\",b)\n",
    "print()\n",
    "\n",
    "#矩阵点乘\n",
    "print(\"dot函数：当两个参数都为一维数组时，计算的是点积；当两个参数是二维数组时，计算的是矩阵乘积\")\n",
    "print(\"np.dot(a,b):\\n\",np.dot(a,b))\n",
    "c=a*b\n",
    "#矩阵逐个相乘\n",
    "print(\"a*b的两个矩阵行列大小必须一致\")\n",
    "print(\"c=a*b=\\n\",c)\n",
    "\n",
    "# 以行或列为单位求和 以及 查找极值：\n",
    "print(\"np.sum(c)：\",np.sum(c))\n",
    "print(\"求最大值np.max(c)：\",np.max(c))\n",
    "print()\n",
    "\n",
    "print(\"以行或列为单位求和 以及 查找极值：\")\n",
    "print(\"axis的值为0的时候，将会以列作为查找单元:\")\n",
    "print(\"np.sum(c,axis=0)=\",np.sum(c,axis=0))\n",
    "\n",
    "print(\"\\naxis的值为1的时候，将会以行作为查找单元:\")\n",
    "print(\"np.max(c,axis=1) =\",np.max(c,axis=1))\n",
    "\n",
    "# 全部元素的乘积\n",
    "print(\"-----------\\n全部元素的乘积 b.prod()=\",b.prod())"
   ]
  },
  {
   "cell_type": "code",
   "execution_count": 87,
   "metadata": {},
   "outputs": [
    {
     "name": "stdout",
     "output_type": "stream",
     "text": [
      "A: [[ 2  3  4  5]\n",
      " [ 6  7  8  9]\n",
      " [10 11 12 13]]\n",
      "--------------argmin() 和 argmax() 两个函数分别对应着求矩阵中最小元素和最大元素的索引--------------\n",
      "np.argmin(A) 0\n",
      "np.argmax(A) 11\n",
      "\n",
      "-------------A.sum(axis=0)-------------------\n",
      "[18 21 24 27]\n",
      "-----------求均值--------------\n",
      "A.mean()= 7.5\n",
      "average计算加权平均数（如果有权重weight的话）\n",
      "np.average(A)= 7.5\n",
      "\n",
      "--------求中位数-------------\n",
      "np.median(A)= 7.5\n",
      "\n",
      "-----------cumsum()累加函数---------------\n",
      "np.cumsum(A)= [ 2  5  9 14 20 27 35 44 54 65 77 90]\n",
      "-----------diff累差运算函数-------------\n",
      "np.diff(A)输出前一项与后一项的差：\n",
      "[[1 1 1]\n",
      " [1 1 1]\n",
      " [1 1 1]]\n",
      "\n",
      "-----所有非零元素的行与列坐标分割开，重构成两个分别关于行和列的矩阵----\n",
      "np.nonzero(A) (array([0, 0, 0, 0, 1, 1, 1, 1, 2, 2, 2, 2], dtype=int64), array([0, 1, 2, 3, 0, 1, 2, 3, 0, 1, 2, 3], dtype=int64))\n",
      "\n",
      "------对每一行进行从小到大排序-----\n",
      "np.sort(A)\n",
      "[[ 2  3  4  5]\n",
      " [ 6  7  8  9]\n",
      " [10 11 12 13]]\n",
      "\n",
      "------矩阵的转置有两种表示方法------\n",
      "np.transpose(A):\n",
      "[[ 2  6 10]\n",
      " [ 3  7 11]\n",
      " [ 4  8 12]\n",
      " [ 5  9 13]]\n",
      "A.T:\n",
      "[[ 2  6 10]\n",
      " [ 3  7 11]\n",
      " [ 4  8 12]\n",
      " [ 5  9 13]]\n",
      "-------------------如果是一维的数组则无法转置(使用shape后可以发现，它其实不具有矩阵的属性)--------------\n",
      "                           解决办法：①使用reshape使其强行具有矩阵的属性(注意!!!要进行赋值否则不会发生更改)\n",
      "                                     ②这个时候可以通过np.newaxis()实现想要的效果\n",
      "\n",
      "\n",
      "A:\n",
      "[1 1 1]\n",
      "A.T:\n",
      "[1 1 1]\n",
      "A[np.newaxis,:]\n",
      "[[1 1 1]]\n",
      "-------clip()函数把超过区间的统统改成区间极值----\n",
      "A: [1 1 1]\n",
      "np.clip(A,5,9):\n",
      "\n",
      "[5 5 5]\n"
     ]
    }
   ],
   "source": [
    "#求对应元素的索引\n",
    "A = np.arange(2,14).reshape((3,4))\n",
    "print(\"A:\",A)\n",
    "\n",
    "print(\"--------------argmin() 和 argmax() 两个函数分别对应着求矩阵中最小元素和最大元素的索引--------------\")\n",
    "print(\"np.argmin(A)\",np.argmin(A))    # 0\n",
    "print(\"np.argmax(A)\",np.argmax(A))    # 1\n",
    "print()\n",
    "\n",
    "# 指定求和的维度\n",
    "print(\"-------------指定求和的维度 A.sum(axis=0)-------------------\")\n",
    "print(A.sum(axis=0))\n",
    "\n",
    "#均值\n",
    "print(\"-----------求均值--------------\")\n",
    "print(\"A.mean()=\",A.mean())\n",
    "print(\"average计算加权平均数（average(a, axis = 0, weights=[1,2])）\")\n",
    "print(\"np.average(A)=\",np.average(A))\n",
    "print()\n",
    "\n",
    "#求解中位数\n",
    "print(\"--------求中位数-------------\")\n",
    "print(\"np.median(A)=\",np.median(A))   \n",
    "print()\n",
    "\n",
    "#cumsum()累加函数\n",
    "print(\"-----------cumsum()累加函数---------------\")\n",
    "print(\"np.cumsum(A)=\",np.cumsum(A)) \n",
    "# 累差运算函数\n",
    "print(\"-----------diff累差运算函数-------------\")\n",
    "print(\"np.diff(A)输出前一项与后一项的差：\")\n",
    "print(np.diff(A))\n",
    "print()\n",
    "\n",
    "# nonzero函数\n",
    "print(\"-----所有非零元素的行与列坐标分割开，重构成两个分别关于行和列的矩阵----\")\n",
    "print(\"np.nonzero(A)\",np.nonzero(A))  \n",
    "print()\n",
    "\n",
    "\n",
    "#对每一行进行从小到大排序\n",
    "print(\"------对每一行进行从小到大排序-----\")\n",
    "print(\"np.sort(A)\") \n",
    "print(np.sort(A))\n",
    "print()\n",
    "\n",
    "\n",
    "#矩阵的转置有两种表示方法\n",
    "print(\"------矩阵的转置有两种表示方法------\")\n",
    "print(\"np.transpose(A):\")\n",
    "print(np.transpose(A))\n",
    "print(\"A.T:\")\n",
    "print(A.T)\n",
    "print('''-------------------如果是一维的数组则无法转置(使用shape后可以发现，它其实不具有矩阵的属性)--------------\n",
    "                           解决办法：①使用reshape使其强行具有矩阵的属性(注意!!!要进行赋值否则不会发生更改)\n",
    "                                     ②这个时候可以通过np.newaxis()实现想要的效果\n",
    "\n",
    "''')\n",
    "A = np.array([1,1,1])\n",
    "print(\"A:\")\n",
    "print(A)\n",
    "print(\"A.T:\")\n",
    "print(A.T)\n",
    "print(\"A[np.newaxis,:]\")\n",
    "print(A[np.newaxis,:])\n",
    "\n",
    "\n",
    "\n",
    "#clip()函数把超过区间的统统改成区间极值\n",
    "print(\"-------clip()函数把超过区间的统统改成区间极值----\")\n",
    "print(\"A:\",A)\n",
    "print(\"np.clip(A,5,9):\")\n",
    "print()\n",
    "print(np.clip(A,5,9))    "
   ]
  },
  {
   "cell_type": "markdown",
   "metadata": {},
   "source": [
    "## 随机函数random\n",
    "numpy.random.rand(d0,d1,…,dn)和numpy.random.random(tuple) 一样的效果，返回值为指定维度的array  \n",
    "numpy.random.randn(d0,d1,…,dn)返回指定维度的**正态分布**的array  "
   ]
  },
  {
   "cell_type": "code",
   "execution_count": 3,
   "metadata": {},
   "outputs": [
    {
     "name": "stdout",
     "output_type": "stream",
     "text": [
      "-----------------------np.random.rand(4,3,2) 返回[0,1)之间的数据----------------------:\n",
      "[[[2.27178706e-01 2.11305569e-01]\n",
      "  [1.02270616e-01 8.63580323e-01]\n",
      "  [9.00071367e-01 2.81225925e-01]]\n",
      "\n",
      " [[2.37288405e-01 6.92386132e-01]\n",
      "  [7.27027874e-04 6.75819406e-01]\n",
      "  [8.43536813e-01 6.87919419e-02]]\n",
      "\n",
      " [[2.04655891e-02 9.94605298e-01]\n",
      "  [6.92749850e-01 3.52731894e-01]\n",
      "  [4.37759725e-02 8.45112819e-01]]\n",
      "\n",
      " [[5.01489250e-01 5.67132662e-01]\n",
      "  [1.90757070e-01 7.15065711e-01]\n",
      "  [3.42361373e-02 2.59206583e-02]]]\n",
      "\n",
      "-----------------------np.random.random((4,3,2)) [0,1)之间的数据-------------------:\n",
      "[[[0.17329935 0.91678093]\n",
      "  [0.397611   0.46898494]\n",
      "  [0.33415779 0.29485666]]\n",
      "\n",
      " [[0.19626869 0.21709674]\n",
      "  [0.02732723 0.64304868]\n",
      "  [0.16978553 0.9078018 ]]\n",
      "\n",
      " [[0.01199198 0.90276851]\n",
      "  [0.29588148 0.79062629]\n",
      "  [0.65589202 0.68199416]]\n",
      "\n",
      " [[0.10429672 0.18931486]\n",
      "  [0.85047733 0.9347346 ]\n",
      "  [0.16322868 0.44358829]]]\n",
      "-----------------np.random.randn(3)标准正态分布----------------------------\n",
      "[ 0.36374549  0.20456573 -2.3392616 ]\n",
      "-----------------np.random.randint(-5,5,size=(2,2))-------------------\n",
      "[[-4  2]\n",
      " [-3  3]]\n",
      "--------np.random.choice(5, 3, replace=False,p=[0.1, 0, 0.3, 0.6, 0])----------\n",
      "[3 2 0]\n",
      "\n",
      "-------------设置np.random.seed(0)----------------\n",
      "seed0: [0.5488135  0.71518937 0.60276338 0.54488318 0.4236548 ]\n",
      "seed0: [0.64589411 0.43758721 0.891773   0.96366276 0.38344152]\n",
      "-------------设置np.random.seed(1)----------------\n",
      "seed1: [4.17022005e-01 7.20324493e-01 1.14374817e-04 3.02332573e-01\n",
      " 1.46755891e-01]\n",
      "-------------设置np.random.seed(0)----------------\n",
      "seed0: [0.5488135  0.71518937 0.60276338 0.54488318 0.4236548 ]\n",
      "seed0: [0.64589411 0.43758721 0.891773   0.96366276 0.38344152]\n"
     ]
    }
   ],
   "source": [
    "# numpy.random.rand(d0,d1,…,dn)\n",
    "# numpy.random.random(tuple) 一样的效果\n",
    "'''\n",
    "    rand函数根据给定维度生成[0,1)之间的数据，包含0，不包含1\n",
    "    dn表格每个维度\n",
    "    返回值为指定维度的array\n",
    "'''\n",
    "a=np.random.rand(4,3,2)\n",
    "print(\"-----------------------np.random.rand(4,3,2) 返回[0,1)之间的数据----------------------:\")\n",
    "print(a)\n",
    "print()\n",
    "\n",
    "b=np.random.random((4,3,2))\n",
    "print(\"-----------------------np.random.random((4,3,2)) [0,1)之间的数据-------------------:\")\n",
    "print(b)\n",
    "\n",
    "\n",
    "# numpy.random.randn(d0,d1,…,dn)\n",
    "'''\n",
    "    randn函数返回一个或一组样本，具有标准正态分布。\n",
    "    dn表格每个维度\n",
    "    返回值为指定维度的array\n",
    "'''\n",
    "print(\"\\n-----------------np.random.randn(3)标准正态分布----------------------------\")\n",
    "print(np.random.randn(3))\n",
    "\n",
    "# numpy.random.randint(low, high=None, size=None, dtype=’l’)\n",
    "'''\n",
    "    返回随机整数，范围区间为[low,high），包含low，不包含high\n",
    "    参数：low为最小值，high为最大值，size为数组维度大小，dtype为数据类型，默认的数据类型是np.int\n",
    "    high没有填写时，默认生成随机数的范围是[0，low)\n",
    "'''\n",
    "print(\"\\n-----------------np.random.randint(-5,5,size=(2,2))-------------------\")\n",
    "print(np.random.randint(-5,5,size=(2,2)))\n",
    "\n",
    "\n",
    "# numpy.random.choice(a, size=None, replace=True, p=None)\n",
    "'''\n",
    "    从给定的一维数组中生成随机数\n",
    "    参数： a为一维数组类似数据或整数；a为整数时，对应的一维数组为np.arange(a)\n",
    "    size为数组维度；\n",
    "    当replace为False时，生成的随机数不能有重复的数值;\n",
    "    p为数组中的数据出现的概率\n",
    "'''\n",
    "print(\"--------np.random.choice(5, 3, replace=False,p=[0.1, 0, 0.3, 0.6, 0])----------\")\n",
    "print (np.random.choice(5, 3, replace=False,p=[0.1, 0, 0.3, 0.6, 0]))\n",
    "print()\n",
    "\n",
    "# numpy.random.seed()\n",
    "'''\n",
    "    使得随机数据可预测。\n",
    "    当我们设置相同的seed，每次生成的随机数相同。如果不设置seed，则每次会生成不同的随机数\n",
    "'''\n",
    "print(\"-------------设置np.random.seed(0)----------------\")\n",
    "np.random.seed(0)\n",
    "print(\"seed0:\",np.random.rand(5))\n",
    "print(\"seed0:\",np.random.rand(5))\n",
    "print(\"-------------设置np.random.seed(1)----------------\")\n",
    "np.random.seed(1)\n",
    "print(\"seed1:\",np.random.rand(5))\n",
    "print(\"-------------设置np.random.seed(0)----------------\")\n",
    "np.random.seed(0)\n",
    "print(\"seed0:\",np.random.rand(5))\n",
    "print(\"seed0:\",np.random.rand(5))"
   ]
  },
  {
   "cell_type": "markdown",
   "metadata": {},
   "source": [
    "## numpy索引和切片"
   ]
  },
  {
   "cell_type": "code",
   "execution_count": 11,
   "metadata": {
    "scrolled": true
   },
   "outputs": [
    {
     "name": "stdout",
     "output_type": "stream",
     "text": [
      "----------------一维索引---------------------\n",
      "A= [ 3  4  5  6  7  8  9 10 11 12 13 14]\n",
      "\n",
      "---------花式索引之 用整数自定义索引位置(本质格式是A[[]])-----------------\n",
      "A[indices]= [ 4  5 12]\n",
      "或者用布尔表达式生成满足条件的 mask(也可创建类型为布尔值的array作为mask)\n",
      "mask= [False False False False  True  True  True  True  True  True  True  True]\n",
      "A[mask]:\n",
      "[ 7  8  9 10 11 12 13 14]\n",
      "\n",
      "A[3]: 6\n",
      "A: [[ 3  4  5  6]\n",
      " [ 7  8  9 10]\n",
      " [11 12 13 14]]\n",
      "实际上A[2]输出第'2'行： [11 12 13 14]\n",
      "\n",
      "------------切片：①最右边索引是-1 ②完整格式为seq[start:end:step]------------\n",
      "提取第一个元素：A[0]= [3 4 5 6]\n",
      "提取前两个元素：A[:2]= [[ 3  4  5  6]\n",
      " [ 7  8  9 10]]\n",
      "A[0:4:2]=\n",
      " [[ 3  4  5  6]\n",
      " [11 12 13 14]]\n",
      "a=np.arange(4)= [0 1 2 3]\n",
      "提取后两个元素：a[-2::]= [2 3]\n",
      "a[:2]= [0 1]\n",
      "np.arange(3,15)[::3]= [ 3  6  9 12]\n",
      "\n",
      "----------------二维索引-----------------\n",
      "二维索引两种表示方法A[0,0]: 3 , A[0][0]: 3\n",
      "A[0,0:3]: [3 4 5 6]\n",
      "A[0:2,0]: [ 3  7 11]\n",
      "\n",
      "-------利用for函数进行 行迭代-----------\n",
      "[3 4 5 6]\n",
      "[ 7  8  9 10]\n",
      "[11 12 13 14]\n",
      "[ 3  7 11]\n",
      "[ 4  8 12]\n",
      "[ 5  9 13]\n",
      "[ 6 10 14]\n",
      "\n",
      "--------flatten是一个展开性质的函数，将多维的矩阵进行展开成1行的数列。将多维的矩阵进行展开成1行的数列就可以进行  逐项迭代了----\n",
      "[ 3  4  5  6  7  8  9 10 11 12 13 14]\n",
      "3\n",
      "4\n",
      "5\n",
      "6\n",
      "7\n",
      "8\n",
      "9\n",
      "10\n",
      "11\n",
      "12\n",
      "13\n",
      "14\n"
     ]
    }
   ],
   "source": [
    "#-----------一维索引-------------------\n",
    "print(\"----------------一维索引---------------------\")\n",
    "A = np.arange(3,15)\n",
    "print('A=',A)\n",
    "print()\n",
    "\n",
    "# 花式索引\n",
    "print(\"---------花式索引之 用整数自定义索引位置(本质格式是A[[]])-----------------\")\n",
    "indices = [1, 2, -3]\n",
    "print('A[indices]=',A[indices])\n",
    "\n",
    "print(\"或者用布尔表达式生成满足条件的 mask(也可创建类型为布尔值的array作为mask)\")\n",
    "mask= A>=7\n",
    "print('mask=',mask)\n",
    "print(\"A[mask]:\")\n",
    "print(A[mask])\n",
    "print()\n",
    "\n",
    "print(\"A[3]:\",A[3]) \n",
    "A=A.reshape(3,4)\n",
    "print(\"A:\",A)\n",
    "print(\"实际上A[2]输出第'2'行：\",A[2])\n",
    "print()\n",
    "\n",
    "print(\"------------切片：①最右边索引是-1 ②完整格式为seq[start:end:step]------------\")\n",
    "print(\"提取第一个元素：A[0]=\",A[0])\n",
    "print(\"提取前两个元素：A[:2]=\",A[:2])\n",
    "print('A[0:4:2]=\\n',A[0:4:2])\n",
    "a=np.arange(4)\n",
    "print(\"a=np.arange(4)=\",a)\n",
    "print(\"提取后两个元素：a[-2::]=\",a[-2:])\n",
    "print('a[:2]=',a[:2])\n",
    "print(\"np.arange(3,15)[::3]=\",np.arange(3,15)[::3])\n",
    "print()\n",
    "      \n",
    "\n",
    "print(\"----------------二维索引-----------------\")\n",
    "#-----------二维索引--------------\n",
    "print(\"二维索引两种表示方法A[0,0]:\",A[0,0],\", A[0][0]:\",A[0][0])\n",
    "print(\"A[0,0:3]:\",A[0,0:4])\n",
    "print(\"A[0:2,0]:\",A[0:3,0])\n",
    "print()\n",
    "\n",
    "\n",
    "print(\"-------利用for函数进行 行迭代-----------\")\n",
    "for row in A:     \n",
    "    print(row)\n",
    "\n",
    "for column in A.T:     \n",
    "    print(column)\n",
    "print()\n",
    "\n",
    "\n",
    "print(\"--------flatten是一个展开性质的函数，将多维的矩阵进行展开成1行的数列。将多维的矩阵进行展开成1行的数列就可以进行  逐项迭代了----\")\n",
    "print(A.flatten())  \n",
    "\n",
    "#flat是一个迭代器，本身是一个object属性\n",
    "for item in A.flat:     \n",
    "    print(item)\n"
   ]
  },
  {
   "cell_type": "markdown",
   "metadata": {},
   "source": [
    "# array 合并"
   ]
  },
  {
   "cell_type": "code",
   "execution_count": 10,
   "metadata": {
    "scrolled": true
   },
   "outputs": [
    {
     "name": "stdout",
     "output_type": "stream",
     "text": [
      "A:\n",
      "[[1 1 1]]\n",
      "B:\n",
      "[[2 2 2]]\n",
      "--------------np.vstack((A,B))上下合并------------------\n",
      "C: [[1 1 1]\n",
      " [2 2 2]]\n",
      "A.shape: (1, 3)\n",
      "C.shape: (2, 3)\n",
      "\n",
      "--------------np.hstack((A,B))左右合并------------------\n",
      "\n",
      "--------------np.concatenate((A,B,B,A),axis=0)对多个矩阵进行合并----------------\n",
      "np.concatenate((A,B,B,A),axis=0) [[1 1 1]\n",
      " [2 2 2]\n",
      " [2 2 2]\n",
      " [1 1 1]]\n",
      "np.concatenate((A,B,B,A),axis=1) [[1 1 1 2 2 2 2 2 2 1 1 1]]\n",
      "\n",
      "numpy没有动态改变数组大小的功能，每次调用conconcatenate时，\n",
      "系统会重新开辟内存生成一个数组，并将原来的数组复制到新数组中，\n",
      "这个过程是非常耗时的，所以导致整个程序变得非常缓慢。 \n",
      "\n"
     ]
    }
   ],
   "source": [
    "A = np.array([1,1,1])\n",
    "B = np.array([2,2,2])\n",
    "# 注意！！！先转换成矩阵\n",
    "A = A[np.newaxis,:]\n",
    "B = B[np.newaxis,:]\n",
    "print(\"A:\")\n",
    "print(A)\n",
    "print(\"B:\")\n",
    "print(B)\n",
    "\n",
    "print(\"--------------np.vstack((A,B))上下合并------------------\")\n",
    "C = np.vstack((A,B))  \n",
    "print(\"C:\",C)\n",
    "print(\"A.shape:\",A.shape)\n",
    "print(\"C.shape:\",C.shape)\n",
    "print()\n",
    "\n",
    "print(\"--------------np.hstack((A,B))左右合并------------------\")\n",
    "D = np.hstack((A,B))       # horizontal stack\n",
    "print()\n",
    "\n",
    "print(\"--------------np.concatenate((A,B,B,A),axis=0)对多个矩阵进行合并----------------\")\n",
    "C = np.concatenate((A,B,B,A),axis=0)\n",
    "print(\"np.concatenate((A,B,B,A),axis=0)\",C)\n",
    "D = np.concatenate((A,B,B,A),axis=1)\n",
    "print(\"np.concatenate((A,B,B,A),axis=1)\",D)\n",
    "print()\n",
    "print('''numpy没有动态改变数组大小的功能，每次调用conconcatenate时，\n",
    "系统会重新开辟内存生成一个数组，并将原来的数组复制到新数组中，\n",
    "这个过程是非常耗时的，所以导致整个程序变得非常缓慢。 \n",
    "'''\n",
    ")\n"
   ]
  },
  {
   "cell_type": "markdown",
   "metadata": {},
   "source": [
    "## Numpy array 分割"
   ]
  },
  {
   "cell_type": "code",
   "execution_count": 63,
   "metadata": {},
   "outputs": [
    {
     "name": "stdout",
     "output_type": "stream",
     "text": [
      "[[ 0  1  2  3]\n",
      " [ 4  5  6  7]\n",
      " [ 8  9 10 11]]\n",
      "\n",
      "----------------np.split(A, 2, axis=1)------------------\n",
      "[array([[0, 1],\n",
      "       [4, 5],\n",
      "       [8, 9]]), array([[ 2,  3],\n",
      "       [ 6,  7],\n",
      "       [10, 11]])]\n",
      "[[ 2  3]\n",
      " [ 6  7]\n",
      " [10 11]]\n",
      "----------------np.split(A, 3, axis=0)------------------\n",
      "[array([[0, 1, 2, 3]]), array([[4, 5, 6, 7]]), array([[ 8,  9, 10, 11]])]\n"
     ]
    }
   ],
   "source": [
    "A = np.arange(12).reshape((3, 4))\n",
    "print(A)\n",
    "print()\n",
    "# 纵向切割，分成2片\n",
    "a=np.split(A, 2, axis=1)\n",
    "print(\"----------------np.split(A, 2, axis=1)------------------\")\n",
    "print(a)\n",
    "print(a[1])\n",
    "print(\"----------------np.split(A, 3, axis=0)------------------\")\n",
    "print(np.split(A, 3, axis=0))"
   ]
  },
  {
   "cell_type": "markdown",
   "metadata": {},
   "source": [
    "## copy & deep copy"
   ]
  },
  {
   "cell_type": "code",
   "execution_count": 23,
   "metadata": {},
   "outputs": [
    {
     "name": "stdout",
     "output_type": "stream",
     "text": [
      "使用copy进行传值\n",
      "int32\n",
      "修改b后a不变： [0 1 2 3]\n",
      "修改c后a变化： [1 1 2 3]\n"
     ]
    }
   ],
   "source": [
    "# python对动态变量的传递为引用。那么如何让两个变量赋值后没有关联？\n",
    "print(\"使用copy进行复制得到副本\")\n",
    "a = np.arange(4)\n",
    "print(a.dtype)\n",
    "b = a.copy() \n",
    "c=a\n",
    "\n",
    "b[0]=1\n",
    "print(\"修改b后a不变：\",a)\n",
    "c[0]=1\n",
    "print(\"修改c后a变化：\",a)\n"
   ]
  }
 ],
 "metadata": {
  "kernelspec": {
   "display_name": "Python 3",
   "language": "python",
   "name": "python3"
  },
  "language_info": {
   "codemirror_mode": {
    "name": "ipython",
    "version": 3
   },
   "file_extension": ".py",
   "mimetype": "text/x-python",
   "name": "python",
   "nbconvert_exporter": "python",
   "pygments_lexer": "ipython3",
   "version": "3.6.8"
  }
 },
 "nbformat": 4,
 "nbformat_minor": 2
}
