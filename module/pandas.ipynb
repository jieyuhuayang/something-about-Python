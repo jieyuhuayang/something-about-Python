{
 "cells": [
  {
   "cell_type": "code",
   "execution_count": 2,
   "metadata": {
    "collapsed": true
   },
   "outputs": [],
   "source": [
    "import pandas as pd\n",
    "import numpy as np\n",
    "import matplotlib.pyplot as plt"
   ]
  },
  {
   "cell_type": "markdown",
   "metadata": {},
   "source": [
    "# 1. pandas 介绍\n",
    "1.1 Pandas处理以下三个数据结构，这些数据结构构建在Numpy数组之上，这意味着它们很快。 \n",
    "- 系列(Series)\n",
    "- 数据帧(DataFrame)\n",
    "- 面板(Panel)  \n"
   ]
  },
  {
   "cell_type": "markdown",
   "metadata": {},
   "source": [
    "# 2. pandas数据结构：Series，dataframe and Index Objects（索引对象）\n",
    "## 2.1 series\n",
    "- 它由一组数据（各种NumPy数据类型）以及一组与之相关的数据标签（即索引index）组成。  \n",
    "- Series的**字符串表现形式**为：索引在左边，值在右边。如果没有为数据指定索引会自动创建一个0到N-1（N为长度）的整数型索引。\n",
    "- Series看成是一个定长的有序字典\n",
    "\n",
    "所有Pandas数据结构是**值可变的**(可以更改)，除了Series(系列)都是大小可变的。Series是大小不变的。  \n",
    "  \n",
    "### 2.1.1 用list和dict创建Series"
   ]
  },
  {
   "cell_type": "code",
   "execution_count": 3,
   "metadata": {},
   "outputs": [
    {
     "name": "stdout",
     "output_type": "stream",
     "text": [
      "-----------------通过list创建--------------\n",
      "d    4\n",
      "b    7\n",
      "a   -5\n",
      "c    3\n",
      "dtype: int64\n",
      "\n",
      "obj.index: Index(['d', 'b', 'a', 'c'], dtype='object')\n",
      "\n",
      "obj.values: [ 4  7 -5  3]\n",
      "\n",
      "-------------通过字典创建Series------------\n",
      "Ohio      35000\n",
      "Texas     71000\n",
      "Oregon    16000\n",
      "Utah       5000\n",
      "dtype: int64\n",
      "\n",
      "index参数：通过传入排过序的字典key 改变Series顺序\n",
      "\n",
      "California        NaN\n",
      "Ohio          35000.0\n",
      "Oregon        16000.0\n",
      "Texas         71000.0\n",
      "dtype: float64\n"
     ]
    }
   ],
   "source": [
    "# 通过list 创建一个含有对各个数据点进行标记的index 的 Series\n",
    "print('-----------------通过list创建--------------')\n",
    "obj = pd.Series([4, 7, -5, 3], index=['d', 'b', 'a', 'c'])\n",
    "print(obj)\n",
    "print('\\nobj.index:',obj.index)\n",
    "print('\\nobj.values:',obj.values)\n",
    "\n",
    "# 通过字典创建Series\n",
    "print('\\n-------------通过字典创建Series------------')\n",
    "sdata = {'Ohio': 35000, 'Texas': 71000, 'Oregon': 16000, 'Utah': 5000}\n",
    "obj2 = pd.Series(sdata)\n",
    "print(obj2)\n",
    "\n",
    "# index参数：通过传入排过序的字典key 改变Series顺序\n",
    "print('\\nindex参数：通过传入排过序的字典key 改变Series顺序\\n')\n",
    "s_index = ['California', 'Ohio', 'Oregon', 'Texas']\n",
    "obj3 = pd.Series(sdata,index=s_index)\n",
    "print(obj3)"
   ]
  },
  {
   "cell_type": "markdown",
   "metadata": {},
   "source": [
    "### 2.1.2 用index选取Series中的值并进行修改"
   ]
  },
  {
   "cell_type": "code",
   "execution_count": 4,
   "metadata": {},
   "outputs": [
    {
     "name": "stdout",
     "output_type": "stream",
     "text": [
      "obj['a']= -5\n",
      "\n",
      "obj[['a','b','c']] =\n",
      "a    2222\n",
      "b       7\n",
      "c       3\n",
      "dtype: int64\n"
     ]
    }
   ],
   "source": [
    "print('obj[\\'a\\']=',obj['a'])\n",
    "print()\n",
    "\n",
    "obj['a']=2222\n",
    "\n",
    "# 用列表进行多值索引\n",
    "print('obj[[\\'a\\',\\'b\\',\\'c\\']] =')\n",
    "print(obj[['a','b','c']])"
   ]
  },
  {
   "cell_type": "markdown",
   "metadata": {},
   "source": [
    "### 2.1.3 修改index\n",
    "- 直接对其index赋值\n",
    "- reindex方法"
   ]
  },
  {
   "cell_type": "code",
   "execution_count": 5,
   "metadata": {},
   "outputs": [
    {
     "name": "stdout",
     "output_type": "stream",
     "text": [
      "d       4\n",
      "b       7\n",
      "a    2222\n",
      "c       3\n",
      "dtype: int64\n",
      "\n",
      "aa       4\n",
      "bb       7\n",
      "c     2222\n",
      "d        3\n",
      "dtype: int64\n"
     ]
    }
   ],
   "source": [
    "print(obj)\n",
    "print()\n",
    "# 直接赋值进行修改\n",
    "obj.index = ['aa','bb','c','d']\n",
    "\n",
    "print(obj)"
   ]
  },
  {
   "cell_type": "markdown",
   "metadata": {},
   "source": [
    "### 2.1.4 Series的运算\n",
    "以下是数值计算及逻辑计算，它能够根据index自动对齐。"
   ]
  },
  {
   "cell_type": "code",
   "execution_count": 6,
   "metadata": {},
   "outputs": [
    {
     "name": "stdout",
     "output_type": "stream",
     "text": [
      "obj[obj>0]=\n",
      "aa       4\n",
      "bb       7\n",
      "c     2222\n",
      "d        3\n",
      "dtype: int64\n",
      "\n",
      "obj*2=\n",
      "aa       8\n",
      "bb      14\n",
      "c     4444\n",
      "d        6\n",
      "dtype: int64\n",
      "\n",
      "np.exp(obj)=\n",
      "aa      54.598150\n",
      "bb    1096.633158\n",
      "c             inf\n",
      "d       20.085537\n",
      "dtype: float64\n"
     ]
    }
   ],
   "source": [
    "print('obj[obj>0]=')\n",
    "print(obj[obj>0])\n",
    "print()\n",
    "\n",
    "print('obj*2=')\n",
    "print(obj*2)\n",
    "print()\n",
    "\n",
    "print('np.exp(obj)=')\n",
    "print(np.exp(obj))"
   ]
  },
  {
   "cell_type": "code",
   "execution_count": 7,
   "metadata": {},
   "outputs": [
    {
     "name": "stdout",
     "output_type": "stream",
     "text": [
      "Ohio      35000\n",
      "Texas     71000\n",
      "Oregon    16000\n",
      "Utah       5000\n",
      "dtype: int64\n",
      "\n",
      "California        NaN\n",
      "Ohio          35000.0\n",
      "Oregon        16000.0\n",
      "Texas         71000.0\n",
      "dtype: float64\n",
      "\n",
      "California         NaN\n",
      "Ohio           70000.0\n",
      "Oregon         32000.0\n",
      "Texas         142000.0\n",
      "Utah               NaN\n",
      "dtype: float64\n"
     ]
    }
   ],
   "source": [
    "print(obj2)\n",
    "print()\n",
    "print(obj3)\n",
    "print()\n",
    "\n",
    "print(obj2+obj3)"
   ]
  },
  {
   "cell_type": "markdown",
   "metadata": {},
   "source": [
    "## 2.2 DataFrame  \n",
    "DataFrame是一个表格型的数据结构，它包含有**一组**有序的**列**，每列可以是不同的值类型（数值，字符串，布尔值等）。  \n",
    "it can be thought of as a dict of Series all sharing the same index.  \n",
    "### 2.2.1 创建一个DataFrame\n",
    "- 最常用的方法是传入 a dict of equal-length lists or NumPy arrays\n",
    "- 把嵌套字典传给DataFrame，外层字典的键作为列，内层键则作为行索引"
   ]
  },
  {
   "cell_type": "code",
   "execution_count": 8,
   "metadata": {},
   "outputs": [
    {
     "name": "stdout",
     "output_type": "stream",
     "text": [
      "    state  year  pop\n",
      "0    Ohio  2000  1.5\n",
      "1    Ohio  2001  1.7\n",
      "2    Ohio  2002  3.6\n",
      "3  Nevada  2001  2.4\n",
      "4  Nevada  2002  2.9\n",
      "5  Nevada  2003  3.2\n",
      "\n",
      "pd.DataFrame(np.arange(12).reshape((3,4))):\n",
      "   0  1   2   3\n",
      "0  0  1   2   3\n",
      "1  4  5   6   7\n",
      "2  8  9  10  11\n",
      "--------------------------------\n",
      "\n",
      "创建时指定列的顺序及index:\n",
      "       year   state  pop\n",
      "one    2000    Ohio  1.5\n",
      "two    2001    Ohio  1.7\n",
      "three  2002    Ohio  3.6\n",
      "four   2001  Nevada  2.4\n",
      "five   2002  Nevada  2.9\n",
      "six    2003  Nevada  3.2\n"
     ]
    }
   ],
   "source": [
    "# 直接传入一个由 等长的 列表或NumPy数组 组成的字典\n",
    "data = {\n",
    "        'state': ['Ohio', 'Ohio', 'Ohio', 'Nevada', 'Nevada', 'Nevada'],\n",
    "        'year': [2000, 2001, 2002, 2001, 2002, 2003],\n",
    "        'pop': [1.5, 1.7, 3.6, 2.4, 2.9, 3.2]\n",
    "       }\n",
    "df = pd.DataFrame(data)\n",
    "print(df)\n",
    "print()\n",
    "\n",
    "df1 = pd.DataFrame(np.arange(12).reshape((3,4)))\n",
    "print(\"pd.DataFrame(np.arange(12).reshape((3,4))):\")\n",
    "print(df1)\n",
    "\n",
    "print(\"--\"*16)\n",
    "print('\\n创建时指定列的顺序及index:')\n",
    "\n",
    "# 创建时指定列的顺序及index\n",
    "print(pd.DataFrame(data,columns=['year','state','pop'],index=['one', 'two', 'three', 'four','five', 'six']))"
   ]
  },
  {
   "cell_type": "code",
   "execution_count": 9,
   "metadata": {},
   "outputs": [
    {
     "name": "stdout",
     "output_type": "stream",
     "text": [
      "      Nevada  Ohio\n",
      "2000     NaN   1.5\n",
      "2001     2.4   1.7\n",
      "2002     2.9   3.6\n",
      "<class 'pandas.core.frame.DataFrame'>\n",
      "2000    1.5\n",
      "2001    1.7\n",
      "Name: Ohio, dtype: float64\n",
      "<class 'pandas.core.series.Series'>\n"
     ]
    }
   ],
   "source": [
    "# 把嵌套字典传给DataFrame，外层字典的键作为列，内层键则作为行索引\n",
    "pop = {\n",
    "        'Nevada': {2001: 2.4, 2002: 2.9},\n",
    "        'Ohio': {2000: 1.5, 2001: 1.7, 2002: 3.6}\n",
    "      }\n",
    "\n",
    "df2 = pd.DataFrame(pop)\n",
    "\n",
    "print(df2)\n",
    "print(type(df2))\n",
    "\n",
    "print(df2['Ohio'][:-1])\n",
    "print(type(df2['Ohio'][:-1]))"
   ]
  },
  {
   "cell_type": "markdown",
   "metadata": {},
   "source": [
    "### 2.2.2 查看一个DataFrame\n",
    "- head方法:对于特别大的DataFrame，head方法会选取前五行\n",
    "- 类似字典属性：**A column** in a DataFrame can be retrieved as **a Series**\n",
    "- loc属性：通过位置或名称的方式获取dataframe的一行\n",
    "- index以及index的name属性：获取index以及命名\n",
    "- columns属性以及columns的name属性：获取表头以及表头的命名\n",
    "- values属性:以二维ndarray的形式返回DataFrame中的数据。如果DataFrame各列的数据类型不同， 则值数组的dtype就会选用能兼容所有列的数据类型。"
   ]
  },
  {
   "cell_type": "code",
   "execution_count": 10,
   "metadata": {},
   "outputs": [
    {
     "name": "stdout",
     "output_type": "stream",
     "text": [
      "    state  year  pop\n",
      "0    Ohio  2000  1.5\n",
      "1    Ohio  2001  1.7\n",
      "2    Ohio  2002  3.6\n",
      "3  Nevada  2001  2.4\n",
      "4  Nevada  2002  2.9\n",
      "----------------------------------------\n",
      "△df['state']=\n",
      "0      Ohio\n",
      "1      Ohio\n",
      "2      Ohio\n",
      "3    Nevada\n",
      "4    Nevada\n",
      "5    Nevada\n",
      "Name: state, dtype: object\n",
      "△df.state=\n",
      "0      Ohio\n",
      "1      Ohio\n",
      "2      Ohio\n",
      "3    Nevada\n",
      "4    Nevada\n",
      "5    Nevada\n",
      "Name: state, dtype: object\n",
      "----------------------------------------\n",
      "loc属性：获取dataframe的一行\n",
      "df.loc[[2,0]]=\n",
      "  state  year  pop\n",
      "2  Ohio  2002  3.6\n",
      "0  Ohio  2000  1.5\n",
      "\n",
      "----------------------------------------\n",
      "df.index=\n",
      "RangeIndex(start=0, stop=6, step=1)\n",
      "设置index的name属性：\n",
      "      state  year  pop\n",
      "no.                   \n",
      "0      Ohio  2000  1.5\n",
      "1      Ohio  2001  1.7\n",
      "2      Ohio  2002  3.6\n",
      "3    Nevada  2001  2.4\n",
      "4    Nevada  2002  2.9\n",
      "5    Nevada  2003  3.2\n",
      "----------------------------------------\n",
      "df.columns:\n",
      "Index(['state', 'year', 'pop'], dtype='object')\n",
      "设置columns的name属性：\n",
      "state   state  year  pop\n",
      "no.                     \n",
      "0        Ohio  2000  1.5\n",
      "1        Ohio  2001  1.7\n",
      "2        Ohio  2002  3.6\n",
      "3      Nevada  2001  2.4\n",
      "4      Nevada  2002  2.9\n",
      "5      Nevada  2003  3.2\n",
      "----------------------------------------\n",
      "values属性\n",
      "[['Ohio' 2000 1.5]\n",
      " ['Ohio' 2001 1.7]\n",
      " ['Ohio' 2002 3.6]\n",
      " ['Nevada' 2001 2.4]\n",
      " ['Nevada' 2002 2.9]\n",
      " ['Nevada' 2003 3.2]]\n"
     ]
    }
   ],
   "source": [
    "data = {\n",
    "        'state': ['Ohio', 'Ohio', 'Ohio', 'Nevada', 'Nevada', 'Nevada'],\n",
    "        'year': [2000, 2001, 2002, 2001, 2002, 2003],\n",
    "        'pop': [1.5, 1.7, 3.6, 2.4, 2.9, 3.2]\n",
    "       }\n",
    "df = pd.DataFrame(data)\n",
    "\n",
    "#head 方法选取前五行\n",
    "print(df.head())\n",
    "print('--'*20)\n",
    "\n",
    "# 将DataFrame的列获取为一个Series：\n",
    "print('△df[\\'state\\']=')\n",
    "print(df['state'])\n",
    "\n",
    "\n",
    "# frame2[column]适用于任何列的名， 但是frame2.column只有在列名是一个合理的Python变量名时才适用。\n",
    "print('△df.state=')\n",
    "print(df.state)\n",
    "print('--'*20)\n",
    "\n",
    "print('loc属性：获取dataframe的一行')\n",
    "print('df.loc[[2,0]]=')\n",
    "print(df.loc[[2,0]])\n",
    "print()\n",
    "\n",
    "print\n",
    "print('--'*20)\n",
    "\n",
    "print('df.index=')\n",
    "print(df.index)\n",
    "print('设置index的name属性：')\n",
    "df.index.name='no.'\n",
    "print(df)\n",
    "print('--'*20)\n",
    "\n",
    "# columns:通过位置或名称的方式获取dataframe的一行\n",
    "print('df.columns:')\n",
    "print(df.columns)\n",
    "print('设置columns的name属性：')\n",
    "df.columns.name='state'\n",
    "print(df)\n",
    "print('--'*20)\n",
    "\n",
    "# values属性\n",
    "print('values属性')\n",
    "print(df.values)"
   ]
  },
  {
   "cell_type": "markdown",
   "metadata": {},
   "source": [
    "### 2.2.3 对DataFrame进行操作\n",
    "- 对列赋值\n",
    "    - 将列表或数组赋值给**某个列**时， 其长度必须跟DataFrame的长度相匹配\n",
    "    - 用Series进行赋值，则会**精确匹配DataFrame的index**，**所有空位都会被填上缺失值**\n",
    "    - 为不存在的列赋值会创建出一个新列。\n",
    "- 删除列：del\n",
    "- 转置操作（DataFrame.T）"
   ]
  },
  {
   "cell_type": "code",
   "execution_count": 11,
   "metadata": {},
   "outputs": [
    {
     "name": "stdout",
     "output_type": "stream",
     "text": [
      "state   state  year  pop\n",
      "no.                     \n",
      "0        Ohio  2000  1.5\n",
      "1        Ohio  2001  1.7\n",
      "2        Ohio  2002  3.6\n",
      "3      Nevada  2001  2.4\n",
      "4      Nevada  2002  2.9\n",
      "5      Nevada  2003  3.2\n",
      "\n",
      "df['pop'] = np.arange(6):\n",
      "state   state  year  pop\n",
      "no.                     \n",
      "0        Ohio  2000    0\n",
      "1        Ohio  2001    1\n",
      "2        Ohio  2002    2\n",
      "3      Nevada  2001    3\n",
      "4      Nevada  2002    4\n",
      "5      Nevada  2003    5\n",
      "----------------------------------------\n",
      "df['pop'] = Series:\n",
      "state   state  year  pop\n",
      "no.                     \n",
      "0        Ohio  2000  NaN\n",
      "1        Ohio  2001 -1.5\n",
      "2        Ohio  2002 -1.7\n",
      "3      Nevada  2001 -1.2\n",
      "4      Nevada  2002  NaN\n",
      "5      Nevada  2003  NaN\n",
      "----------------------------------------\n",
      "state   state  year  pop  to_be_del\n",
      "no.                                \n",
      "0        Ohio  2000  NaN       True\n",
      "1        Ohio  2001 -1.5       True\n",
      "2        Ohio  2002 -1.7       True\n",
      "3      Nevada  2001 -1.2      False\n",
      "4      Nevada  2002  NaN      False\n",
      "5      Nevada  2003  NaN      False\n"
     ]
    }
   ],
   "source": [
    "print(df)\n",
    "print()\n",
    "\n",
    "df['pop'] = np.arange(6)\n",
    "print('df[\\'pop\\'] = np.arange(6):')\n",
    "print(df)\n",
    "print('--'*20)\n",
    "\n",
    "val = pd.Series([-1.2, -1.5, -1.7],index=[3,1,2])\n",
    "df['pop'] = val\n",
    "print('df[\\'pop\\'] = Series:')\n",
    "print(df)\n",
    "print('--'*20)\n",
    "\n",
    "# 为不存在的列赋值会创建出一个新列。\n",
    "df['to_be_del'] = (df.state=='Ohio')\n",
    "print(df)"
   ]
  },
  {
   "cell_type": "code",
   "execution_count": 12,
   "metadata": {},
   "outputs": [
    {
     "name": "stdout",
     "output_type": "stream",
     "text": [
      "Index(['state', 'year', 'pop'], dtype='object', name='state')\n"
     ]
    }
   ],
   "source": [
    "# del方法用来删除列：\n",
    "del df['to_be_del']\n",
    "print(df.columns)"
   ]
  },
  {
   "cell_type": "code",
   "execution_count": 13,
   "metadata": {},
   "outputs": [
    {
     "name": "stdout",
     "output_type": "stream",
     "text": [
      "no.       0     1     2       3       4       5\n",
      "state                                          \n",
      "state  Ohio  Ohio  Ohio  Nevada  Nevada  Nevada\n",
      "year   2000  2001  2002    2001    2002    2003\n",
      "pop     NaN  -1.5  -1.7    -1.2     NaN     NaN\n"
     ]
    }
   ],
   "source": [
    "print(df.T)"
   ]
  },
  {
   "cell_type": "markdown",
   "metadata": {},
   "source": [
    "## 2.3 Index Objects（索引对象）\n",
    "pandas’s Index objects are responsible for holding the axis labels(轴标签) and other metadata(like the axis name).  \n",
    "构建Series或DataFrame时， 所用到的任何数组或其他序列的标签都会被转换成一个Index。    \n",
    "Index对象是不可变的， 因此用户不能对其进行修改，这使Index对象在多个数据结构之间安全共享。"
   ]
  },
  {
   "cell_type": "code",
   "execution_count": 14,
   "metadata": {},
   "outputs": [
    {
     "name": "stdout",
     "output_type": "stream",
     "text": [
      "state   state  year  pop\n",
      "no.                     \n",
      "0        Ohio  2000  NaN\n",
      "1        Ohio  2001 -1.5\n",
      "2        Ohio  2002 -1.7\n",
      "3      Nevada  2001 -1.2\n",
      "4      Nevada  2002  NaN\n",
      "5      Nevada  2003  NaN\n",
      "----------------------------------------\n",
      "df.columns=\n",
      "Index(['state', 'year', 'pop'], dtype='object', name='state')\n",
      "\n",
      "True\n",
      "True\n"
     ]
    }
   ],
   "source": [
    "# 除了类似于数组， Index的功能也类似一个固定大小的Set：\n",
    "print(df)\n",
    "print('--'*20)\n",
    "print('df.columns=')\n",
    "print(df.columns)\n",
    "print()\n",
    "\n",
    "print('state'in df.columns)\n",
    "print(2 in df.index)"
   ]
  },
  {
   "cell_type": "code",
   "execution_count": 15,
   "metadata": {},
   "outputs": [
    {
     "name": "stdout",
     "output_type": "stream",
     "text": [
      "Float64Index([1.0, 1.0, 1.0], dtype='float64')\n",
      "Index does not support mutable operations\n",
      "\n",
      "     0  1   2   3\n",
      "1.0  0  1   2   3\n",
      "1.0  4  5   6   7\n",
      "1.0  8  9  10  11\n",
      "\n",
      " obj2.index is labels: True\n",
      "\n",
      "选择重复的标签， 会显示所有的结果\n",
      "     0  1   2   3\n",
      "1.0  0  1   2   3\n",
      "1.0  4  5   6   7\n",
      "1.0  8  9  10  11\n"
     ]
    }
   ],
   "source": [
    "labels = pd.Index(np.ones(3))\n",
    "print(labels)\n",
    "\n",
    "# Index对象是不可变的\n",
    "try:\n",
    "    labels[1]='d'\n",
    "except BaseException as e:\n",
    "    print('Index does not support mutable operations')\n",
    "\n",
    "# Index对象可在多个数据结构之间安全共享\n",
    "print()\n",
    "obj2 = pd.DataFrame(np.arange(12).reshape((3,4)),index=labels)\n",
    "print(obj2)\n",
    "\n",
    "print('\\n obj2.index is labels:',obj2.index is labels)\n",
    "print()\n",
    "\n",
    "# 与python的集合不同， pandas的Index可以包含重复的标签：\n",
    "print('选择重复的标签， 会显示所有的结果')\n",
    "print(obj2.loc[1])"
   ]
  },
  {
   "cell_type": "markdown",
   "metadata": {},
   "source": [
    "- index的 **is_unique** 属性：可以告诉你它的值是否是唯一的"
   ]
  },
  {
   "cell_type": "code",
   "execution_count": 16,
   "metadata": {},
   "outputs": [
    {
     "name": "stdout",
     "output_type": "stream",
     "text": [
      "False\n"
     ]
    }
   ],
   "source": [
    "print(obj2.index.is_unique)"
   ]
  },
  {
   "cell_type": "markdown",
   "metadata": {},
   "source": [
    "# 3. Essential Functionality(基本功能)\n",
    "## 3.1 Reindexing（重新索引）\n",
    "reindex方法：创建一个新对象， 它的数据根据新索引进行重排，如果某个索引值当前不存在， 就引入缺失值："
   ]
  },
  {
   "cell_type": "code",
   "execution_count": 17,
   "metadata": {},
   "outputs": [
    {
     "name": "stdout",
     "output_type": "stream",
     "text": [
      "d    4.5\n",
      "b    7.2\n",
      "a   -5.3\n",
      "c    3.6\n",
      "dtype: float64\n",
      "--------------------------------reindex方法修改Series\n",
      "a   -5.3\n",
      "b    7.2\n",
      "c    3.6\n",
      "d    4.5\n",
      "e    NaN\n",
      "dtype: float64\n",
      "\n",
      "\n",
      "DataFrame:\n",
      "   Ohio  Texas  California\n",
      "a     0      1           2\n",
      "c     3      4           5\n",
      "d     6      7           8\n",
      "--------------------------------reindex方法修改DataFrame\n",
      "   Ohio  Texas  California\n",
      "a   0.0    1.0         2.0\n",
      "b   NaN    NaN         NaN\n",
      "c   3.0    4.0         5.0\n",
      "d   6.0    7.0         8.0\n",
      "--------------------------------reindex同时修改DataFrame行和列（列使用columns关键字）:\n",
      "   Texas  Utah  California\n",
      "a    1.0   NaN         2.0\n",
      "b    NaN   NaN         NaN\n",
      "c    4.0   NaN         5.0\n",
      "d    7.0   NaN         8.0\n"
     ]
    }
   ],
   "source": [
    "# reindex方法修改Series\n",
    "obj = pd.Series([4.5, 7.2, -5.3, 3.6],index=['d', 'b','a', 'c'])\n",
    "print(obj)\n",
    "print('--'*16+'reindex方法修改Series')\n",
    "obj2 = obj.reindex(['a', 'b', 'c', 'd', 'e'])\n",
    "print(obj2)\n",
    "\n",
    "# reindex方法修改DataFrame（行）索引和列。 \n",
    "#只传递一个序列时，会重新索引结果的行\n",
    "frame = pd.DataFrame(np.arange(9).reshape((3,3)),index=['a','c','d'],columns=['Ohio','Texas','California'])\n",
    "print('\\n\\nDataFrame:')\n",
    "print(frame)\n",
    "print('--'*16+'reindex方法修改DataFrame')\n",
    "frame2 = frame.reindex(['a','b','c','d'])\n",
    "print(frame2)\n",
    "# 同时修改行和列（列使用columns关键字）\n",
    "states = ['Texas','Utah','California']\n",
    "frame3 = frame.reindex(['a','b','c','d'],columns=states)\n",
    "print('--'*16+'reindex同时修改DataFrame行和列（列使用columns关键字）:')\n",
    "print(frame3)"
   ]
  },
  {
   "cell_type": "markdown",
   "metadata": {},
   "source": [
    "- method选项：对于时间序列这样的有序数据，重新索引时可能需要做一些**插值处理**（填充一些数据）。\n",
    "    - eg:method='ffill'可以实现前向值填充：\n",
    "- fill_value选项：找不到值时指定一个填充值。\n",
    "- limit选项\n",
    "- tolerance选项\n",
    "- level选项\n",
    "- copy选项"
   ]
  },
  {
   "cell_type": "code",
   "execution_count": 18,
   "metadata": {},
   "outputs": [
    {
     "name": "stdout",
     "output_type": "stream",
     "text": [
      "0      blue\n",
      "2    purple\n",
      "4    yellow\n",
      "dtype: object\n",
      "------------ffill可以实现前向值填充------------\n",
      "0      blue\n",
      "1      blue\n",
      "2    purple\n",
      "3    purple\n",
      "4    yellow\n",
      "5    yellow\n",
      "dtype: object\n"
     ]
    }
   ],
   "source": [
    "obj3 = pd.Series(['blue', 'purple', 'yellow'], index=[0, 2, 4])\n",
    "print(obj3)\n",
    "print('--'*6+'ffill可以实现前向值填充'+'--'*6)\n",
    "obj3 = obj3.reindex(range(6),method='ffill',fill_value=0)\n",
    "print(obj3)"
   ]
  },
  {
   "cell_type": "markdown",
   "metadata": {},
   "source": [
    "## 3.2 Dropping Entries from an Axis（丢弃指定轴上的项）\n",
    "指定一个索引数组或列表即可。返回的是一个在指定轴上删除了指定值的**新对象**。"
   ]
  },
  {
   "cell_type": "code",
   "execution_count": 19,
   "metadata": {},
   "outputs": [
    {
     "name": "stdout",
     "output_type": "stream",
     "text": [
      "obj:\n",
      " a    0.0\n",
      "b    1.0\n",
      "c    2.0\n",
      "d    3.0\n",
      "e    4.0\n",
      "dtype: float64\n",
      "\n",
      "--------------------------------丢弃Series：obj.drop('c')\n",
      "a    0.0\n",
      "b    1.0\n",
      "d    3.0\n",
      "e    4.0\n",
      "dtype: float64\n",
      "--------------------------------丢弃Series：obj.drop(['c','d'])\n",
      "a    0.0\n",
      "b    1.0\n",
      "e    4.0\n",
      "dtype: float64\n"
     ]
    }
   ],
   "source": [
    "# Series\n",
    "obj = pd.Series(np.arange(5.), index=['a', 'b', 'c', 'd', 'e'])\n",
    "print('obj:\\n',obj)\n",
    "print()\n",
    "\n",
    "print('--'*16+'丢弃Series：obj.drop(\\'c\\')')\n",
    "new_obj = obj.drop('c')\n",
    "print(new_obj)\n",
    "\n",
    "print('--'*16+'丢弃Series：obj.drop([\\'c\\',\\'d\\'])')\n",
    "new_obj = obj.drop(['c','d'])\n",
    "print(new_obj)"
   ]
  },
  {
   "cell_type": "code",
   "execution_count": 20,
   "metadata": {},
   "outputs": [
    {
     "name": "stdout",
     "output_type": "stream",
     "text": [
      "DataFrame:\n",
      "          one  two  three  four\n",
      "Ohio        0    1      2     3\n",
      "Colorado    4    5      6     7\n",
      "Utah        8    9     10    11\n",
      "New York   12   13     14    15\n",
      "\n",
      "--------------------------------用标签序列会从行标签（axis=0）删除值\n",
      "          one  two  three  four\n",
      "Utah        8    9     10    11\n",
      "New York   12   13     14    15\n",
      "--------------------------------通过传递axis=1或axis='columns'可以删除列的值：\n",
      "          one  three  four\n",
      "Ohio        0      2     3\n",
      "Colorado    4      6     7\n",
      "Utah        8     10    11\n",
      "New York   12     14    15\n",
      "          one  three\n",
      "Ohio        0      2\n",
      "Colorado    4      6\n",
      "Utah        8     10\n",
      "New York   12     14\n"
     ]
    }
   ],
   "source": [
    "# Pandas\n",
    "data = pd.DataFrame(np.arange(16).reshape((4, 4)),index=['Ohio', 'Colorado', 'Utah','New York'],columns=['one', 'two', 'three', 'four'])\n",
    "print('DataFrame:')\n",
    "print(data)\n",
    "print()\n",
    "\n",
    "print('--'*16+'用标签序列会从行标签（axis=0）删除值')\n",
    "print(data.drop(['Colorado', 'Ohio']))\n",
    "print('--'*16+'通过传递axis=1或axis=\\'columns\\'可以删除列的值：')\n",
    "print(data.drop('two',axis=1))\n",
    "print(data.drop(['two', 'four'], axis='columns'))\n"
   ]
  },
  {
   "cell_type": "markdown",
   "metadata": {},
   "source": [
    "- inplace参数：就地修改对象， 不会返回新的对象(小心使用inplace， 它会销毁所有被删除的数据。)"
   ]
  },
  {
   "cell_type": "code",
   "execution_count": 21,
   "metadata": {},
   "outputs": [
    {
     "name": "stdout",
     "output_type": "stream",
     "text": [
      "a    0.0\n",
      "b    1.0\n",
      "d    3.0\n",
      "e    4.0\n",
      "dtype: float64\n"
     ]
    }
   ],
   "source": [
    "obj.drop('c', inplace=True)\n",
    "print(obj)"
   ]
  },
  {
   "cell_type": "markdown",
   "metadata": {},
   "source": [
    "## 3.3 Indexing, Selection, and Filtering(索引、 选取和过滤)"
   ]
  },
  {
   "cell_type": "code",
   "execution_count": 22,
   "metadata": {},
   "outputs": [
    {
     "name": "stdout",
     "output_type": "stream",
     "text": [
      "a    0.0\n",
      "b    1.0\n",
      "c    2.0\n",
      "d    3.0\n",
      "dtype: float64\n",
      "\n",
      "obj['b']=\n",
      "1.0\n",
      "\n",
      "obj[['b', 'a', 'd']]=\n",
      "b    1.0\n",
      "a    0.0\n",
      "d    3.0\n",
      "dtype: float64\n",
      "\n",
      "标签的切片运算,其末端是包含的:obj['a':'c']\n",
      "a    0.0\n",
      "b    1.0\n",
      "c    2.0\n",
      "dtype: float64\n",
      "\n",
      "obj[1]=\n",
      "1.0\n",
      "\n",
      "obj[2:4]=\n",
      "c    2.0\n",
      "d    3.0\n",
      "dtype: float64\n",
      "\n",
      "obj < 2=\n",
      "a     True\n",
      "b     True\n",
      "c    False\n",
      "d    False\n",
      "dtype: bool\n",
      "obj[obj < 2]=\n",
      "a    0.0\n",
      "b    1.0\n",
      "dtype: float64\n"
     ]
    }
   ],
   "source": [
    "# Indexing for Series\n",
    "obj = pd.Series(np.arange(4.), index=['a', 'b', 'c', 'd'])\n",
    "print(obj)\n",
    "print()\n",
    "\n",
    "print('obj[\\'b\\']=')\n",
    "print(obj['b'])\n",
    "print()\n",
    "\n",
    "print('obj[[\\'b\\', \\'a\\', \\'d\\']]=')\n",
    "print(obj[['b', 'a', 'd']])\n",
    "print()\n",
    "\n",
    "print('标签的切片运算,其末端是包含的:obj[\\'a\\':\\'c\\']')\n",
    "print(obj['a':'c'])\n",
    "print()\n",
    "\n",
    "print('obj[1]=')\n",
    "print(obj[1])\n",
    "print()\n",
    "\n",
    "print('obj[2:4]=')\n",
    "print(obj[2:4])\n",
    "print()\n",
    "\n",
    "print('obj < 2=')\n",
    "print(obj < 2)\n",
    "print('obj[obj < 2]=')\n",
    "print(obj[obj < 2])"
   ]
  },
  {
   "cell_type": "code",
   "execution_count": 41,
   "metadata": {},
   "outputs": [
    {
     "name": "stdout",
     "output_type": "stream",
     "text": [
      "data=\n",
      "          one  two  three  four\n",
      "Ohio        0    1      2     3\n",
      "Colorado    4    5      6     7\n",
      "Utah        8    9     10    11\n",
      "New York   12   13     14    15\n",
      "\n",
      "--------------------------------向[ ]传递单一的元素或列表选择列\n",
      "data['two']=\n",
      "Ohio         1\n",
      "Colorado     5\n",
      "Utah         9\n",
      "New York    13\n",
      "Name: two, dtype: int32\n",
      "\n",
      "data[['three', 'one']]=\n",
      "          three  one\n",
      "Ohio          2    0\n",
      "Colorado      6    4\n",
      "Utah         10    8\n",
      "New York     14   12\n",
      "\n",
      "--------------------------------选取行\n",
      "通过切片选取data[:2]=\n",
      "          one  two  three  four\n",
      "Ohio        0    1      2     3\n",
      "Colorado    4    5      6     7\n",
      "\n",
      "通过布尔型数组选取数据data['three'] > 5=\n",
      "Ohio        False\n",
      "Colorado     True\n",
      "Utah         True\n",
      "New York     True\n",
      "Name: three, dtype: bool\n",
      "data[data['three'] > 5]=\n",
      "          one  two  three  four\n",
      "Colorado    4    5      6     7\n",
      "Utah        8    9     10    11\n",
      "New York   12   13     14    15\n",
      "data<5=\n",
      "            one    two  three   four\n",
      "Ohio       True   True   True   True\n",
      "Colorado   True  False  False  False\n",
      "Utah      False  False  False  False\n",
      "New York  False  False  False  False\n",
      "data=\n",
      "          one  two  three  four\n",
      "Ohio        0    0      0     0\n",
      "Colorado    0    5      6     7\n",
      "Utah        8    9     10    11\n",
      "New York   12   13     14    15\n"
     ]
    }
   ],
   "source": [
    "# indexing for DataFrame\n",
    "data = pd.DataFrame(np.arange(16).reshape((4, 4)),index=['Ohio', 'Colorado', 'Utah',\n",
    "'New York'],columns=['one', 'two', 'three', 'four'])\n",
    "print('data=')\n",
    "print(data)\n",
    "print()\n",
    "\n",
    "print('-'*32+'向[ ]传递单一的元素或列表选择列')\n",
    "print('data[\\'two\\']=')\n",
    "print(data['two'])\n",
    "print()\n",
    "\n",
    "\n",
    "print('data[[\\'three\\', \\'one\\']]=')\n",
    "print(data[['three', 'one']])\n",
    "print()\n",
    "\n",
    "# 通过切片选取\n",
    "print('-'*32+'选取行')\n",
    "print('通过切片选取data[:2]=')\n",
    "print(data[:2])\n",
    "print()\n",
    "\n",
    "# 通过布尔型数组选取数据\n",
    "print('通过布尔型数组选取数据data[\\'three\\'] > 5=')\n",
    "print(data['three'] > 5)\n",
    "print('data[data[\\'three\\'] > 5]=')\n",
    "print(data[data['three'] > 5])\n",
    "\n",
    "# 通过布尔型DataFrame进行选取\n",
    "print('data<5=')\n",
    "print(data<5)\n",
    "data[data < 5] = 0\n",
    "print('data=')\n",
    "print(data)"
   ]
  },
  {
   "cell_type": "markdown",
   "metadata": {},
   "source": [
    "- loc（标签索引）与 iloc（整数索引）:避免轴索引中含有整数时引发歧义"
   ]
  },
  {
   "cell_type": "code",
   "execution_count": 24,
   "metadata": {},
   "outputs": [
    {
     "name": "stdout",
     "output_type": "stream",
     "text": [
      "0    0.0\n",
      "1    1.0\n",
      "2    2.0\n",
      "dtype: float64\n",
      "如果轴索引含有整数，数据选取总会使用标签,ser[-1]会报错\n",
      "为了更准确，请使用loc（标签）或iloc（整数）\n"
     ]
    }
   ],
   "source": [
    "ser = pd.Series(np.arange(3.))\n",
    "print(ser)\n",
    "print('如果轴索引含有整数，数据选取总会使用标签,ser[-1]会报错')\n",
    "#print(ser[-1])\n",
    "print('为了更准确，请使用loc（标签）或iloc（整数）')"
   ]
  },
  {
   "cell_type": "code",
   "execution_count": 25,
   "metadata": {},
   "outputs": [
    {
     "name": "stdout",
     "output_type": "stream",
     "text": [
      "          two  three\n",
      "Ohio        0      0\n",
      "Colorado    5      6\n",
      "\n",
      "          four  one  two\n",
      "Colorado     7    0    5\n",
      "Utah        11    8    9\n",
      "\n",
      "          one  two  three\n",
      "Colorado    0    5      6\n",
      "Utah        8    9     10\n",
      "New York   12   13     14\n"
     ]
    }
   ],
   "source": [
    "# Selection with loc(轴标签) and iloc（整数索引） \n",
    "print(data.loc[:'Colorado', ['two', 'three']])\n",
    "print()\n",
    "\n",
    "print(data.iloc[[1,2], [3, 0, 1]])\n",
    "print()\n",
    "\n",
    "print(data.iloc[:, :3][data.three > 5])"
   ]
  },
  {
   "cell_type": "markdown",
   "metadata": {},
   "source": [
    "## 3.4 Arithmetic and Data Alignment(算术运算和数据对齐)\n",
    "pandas最重要的一个功能是， 它可以对不同索引的对象进行算术运算.  \n",
    "自动的数据对齐操作在不重叠的索引处引入了NA值。 缺失值会在算术运算过程中传播"
   ]
  },
  {
   "cell_type": "code",
   "execution_count": 26,
   "metadata": {},
   "outputs": [
    {
     "name": "stdout",
     "output_type": "stream",
     "text": [
      "s1=\n",
      "a    7.3\n",
      "c   -2.5\n",
      "d    3.4\n",
      "e    1.5\n",
      "dtype: float64\n",
      "s2=\n",
      "a   -2.1\n",
      "c    3.6\n",
      "e   -1.5\n",
      "f    4.0\n",
      "g    3.1\n",
      "dtype: float64\n",
      "\n",
      "s1+s2=\n",
      "a    5.2\n",
      "c    1.1\n",
      "d    NaN\n",
      "e    0.0\n",
      "f    NaN\n",
      "g    NaN\n",
      "dtype: float64\n"
     ]
    }
   ],
   "source": [
    "s1 = pd.Series([7.3, -2.5, 3.4, 1.5], index=['a', 'c','d', 'e'])\n",
    "s2 = pd.Series([-2.1, 3.6, -1.5, 4, 3.1],index=['a', 'c', 'e', 'f', 'g'])\n",
    "\n",
    "print('s1=')\n",
    "print(s1)\n",
    "print('s2=')\n",
    "print(s2)\n",
    "print()\n",
    "\n",
    "print('s1+s2=')\n",
    "print(s1+s2)"
   ]
  },
  {
   "cell_type": "code",
   "execution_count": 27,
   "metadata": {},
   "outputs": [
    {
     "name": "stdout",
     "output_type": "stream",
     "text": [
      "['b', 'd', 'e']\n",
      "df1=\n",
      "            b    c    d\n",
      "Ohio      0.0  1.0  2.0\n",
      "Texas     3.0  4.0  5.0\n",
      "Colorado  6.0  7.0  8.0\n",
      "df2=\n",
      "          b     d     e\n",
      "Utah    0.0   1.0   2.0\n",
      "Ohio    3.0   4.0   5.0\n",
      "Texas   6.0   7.0   8.0\n",
      "Oregon  9.0  10.0  11.0\n",
      "\n",
      "print(df1+df2)=\n",
      "            b   c     d   e\n",
      "Colorado  NaN NaN   NaN NaN\n",
      "Ohio      3.0 NaN   6.0 NaN\n",
      "Oregon    NaN NaN   NaN NaN\n",
      "Texas     9.0 NaN  12.0 NaN\n",
      "Utah      NaN NaN   NaN NaN\n"
     ]
    }
   ],
   "source": [
    "df1 = pd.DataFrame(np.arange(9.).reshape((3, 3)), columns=list('bcd'),index=['Ohio', 'Texas', 'Colorado'])\n",
    "df2 = pd.DataFrame(np.arange(12.).reshape((4, 3)), columns=list('bde'),index=['Utah', 'Ohio', 'Texas', 'Oregon'])\n",
    "print(list('bde'))\n",
    "print('df1=')\n",
    "print(df1)\n",
    "print('df2=')\n",
    "print(df2)\n",
    "print()\n",
    "\n",
    "print('print(df1+df2)=')\n",
    "print(df1+df2)"
   ]
  },
  {
   "cell_type": "markdown",
   "metadata": {},
   "source": [
    "- Arithmetic methods with fll values(在算术方法中填充值):  \n",
    "在对不同索引的对象进行算术运算时，你可能希望当一个对象中某个轴标签在另一个对象中找不到时填充一个特殊值（比如0）：因此Series和DataFrame的算术方法都有一个副本，以字母r开头，它会翻转参数。这两个语句是等价的。"
   ]
  },
  {
   "cell_type": "code",
   "execution_count": 28,
   "metadata": {},
   "outputs": [
    {
     "name": "stdout",
     "output_type": "stream",
     "text": [
      "df1=\n",
      "     a    b     c     d\n",
      "0  0.0  1.0   2.0   3.0\n",
      "1  4.0  5.0   6.0   7.0\n",
      "2  8.0  9.0  10.0  11.0\n",
      "df2=\n",
      "      a     b     c     d     e\n",
      "0   0.0   1.0   2.0   3.0   4.0\n",
      "1   5.0   NaN   7.0   8.0   9.0\n",
      "2  10.0  11.0  12.0  13.0  14.0\n",
      "3  15.0  16.0  17.0  18.0  19.0\n",
      "\n",
      "df1+df2=\n",
      "      a     b     c     d   e\n",
      "0   0.0   2.0   4.0   6.0 NaN\n",
      "1   9.0   NaN  13.0  15.0 NaN\n",
      "2  18.0  20.0  22.0  24.0 NaN\n",
      "3   NaN   NaN   NaN   NaN NaN\n",
      "\n",
      "      a     b     c     d     e\n",
      "0   0.0   2.0   4.0   6.0   4.0\n",
      "1   9.0   5.0  13.0  15.0   9.0\n",
      "2  18.0  20.0  22.0  24.0  14.0\n",
      "3  15.0  16.0  17.0  18.0  19.0\n",
      "      a     b     c     d     e\n",
      "0   0.0   2.0   4.0   6.0   4.0\n",
      "1   9.0   5.0  13.0  15.0   9.0\n",
      "2  18.0  20.0  22.0  24.0  14.0\n",
      "3  15.0  16.0  17.0  18.0  19.0\n"
     ]
    }
   ],
   "source": [
    "df1 = pd.DataFrame(np.arange(12.).reshape((3, 4)),columns=list('abcd'))\n",
    "df2 = pd.DataFrame(np.arange(20.).reshape((4, 5)),columns=list('abcde'))\n",
    "print('df1=')\n",
    "print(df1)\n",
    "\n",
    "df2.loc[1, 'b'] = np.nan\n",
    "print('df2=')\n",
    "print(df2)\n",
    "print()\n",
    "\n",
    "print('df1+df2=')\n",
    "print(df1+df2)\n",
    "print()\n",
    "\n",
    "# 使用df1的add方法， 传入df2以及一个fill_value参数：\n",
    "print(df1.add(df2, fill_value=0))\n",
    "print(df1.radd(df2, fill_value=0))"
   ]
  },
  {
   "cell_type": "markdown",
   "metadata": {},
   "source": [
    "- DataFrame和Series之间的运算:\n",
    "默认情况下， DataFrame和Series之间的算术运算会将Series的索引匹配到DataFrame的列， 然后沿着行一直向下广播："
   ]
  },
  {
   "cell_type": "code",
   "execution_count": 45,
   "metadata": {
    "scrolled": true
   },
   "outputs": [
    {
     "name": "stdout",
     "output_type": "stream",
     "text": [
      "frame=\n",
      "          b     d     e\n",
      "Utah    0.0   1.0   2.0\n",
      "Ohio    3.0   4.0   5.0\n",
      "Texas   6.0   7.0   8.0\n",
      "Oregon  9.0  10.0  11.0\n",
      "series=\n",
      "b    0.0\n",
      "d    1.0\n",
      "e    2.0\n",
      "Name: Utah, dtype: float64\n",
      "\n",
      "frame - series\n",
      "          b    d    e\n",
      "Utah    0.0  0.0  0.0\n",
      "Ohio    3.0  3.0  3.0\n",
      "Texas   6.0  6.0  6.0\n",
      "Oregon  9.0  9.0  9.0\n",
      "\n",
      "如果某个索引值在DataFrame的列或Series的索引中找不到， 则参与运算的两个对象就会被重新索引以形成并集：\n",
      "seires2=\n",
      "b    0\n",
      "e    1\n",
      "f    2\n",
      "dtype: int64\n",
      "frame + series2\n",
      "          b   d     e   f\n",
      "Utah    0.0 NaN   3.0 NaN\n",
      "Ohio    3.0 NaN   6.0 NaN\n",
      "Texas   6.0 NaN   9.0 NaN\n",
      "Oregon  9.0 NaN  12.0 NaN\n",
      "--------------------------------\n",
      "如果希望匹配行索引并且在列上广播， 则必须使用算术运算方法且传入轴号（ axis='index' or axis=0）。 例如：\n",
      "series3=\n",
      "Utah       1.0\n",
      "Ohio       4.0\n",
      "Texas      7.0\n",
      "Oregon    10.0\n",
      "Name: d, dtype: float64\n",
      "\n",
      "frame.sub(series3, axis='index')\n",
      "          b    d    e\n",
      "Utah   -1.0  0.0  1.0\n",
      "Ohio   -1.0  0.0  1.0\n",
      "Texas  -1.0  0.0  1.0\n",
      "Oregon -1.0  0.0  1.0\n"
     ]
    }
   ],
   "source": [
    "frame = pd.DataFrame(np.arange(12.).reshape((4, 3)),columns=list('bde'),index=['Utah', 'Ohio', 'Texas', 'Oregon'])\n",
    "series = frame.iloc[0]\n",
    "print('frame=')\n",
    "print(frame)\n",
    "print('series=')\n",
    "print(series)\n",
    "print()\n",
    "\n",
    "#默认情况下， DataFrame和Series之间的算术运算会将Series的索引匹配到DataFrame的列， 然后沿着行一直向下广播：\n",
    "print('frame - series')\n",
    "print(frame - series)\n",
    "print()\n",
    "\n",
    "\n",
    "# 如果某个索引值在DataFrame的列或Series的索引中找不到， 则参与运算的两个对象就会被重新索引以形成并集：\n",
    "print('如果某个索引值在DataFrame的列或Series的索引中找不到， 则参与运算的两个对象就会被重新索引以形成并集：')\n",
    "series2 = pd.Series(range(3), index=['b', 'e', 'f'])\n",
    "print('seires2=')\n",
    "print(series2)\n",
    "print('frame + series2')\n",
    "print(frame + series2)\n",
    "\n",
    "print('--'*16)\n",
    "print('如果希望匹配行索引并且在列上广播， 则必须使用算术运算方法且传入轴号（ axis=\\'index\\' or axis=0）。 例如：')\n",
    "series3 = frame['d']\n",
    "print('series3=')\n",
    "print(series3)\n",
    "print()\n",
    "\n",
    "print('frame.sub(series3, axis=\\'index\\')')\n",
    "print(frame.sub(series3, axis=0))"
   ]
  },
  {
   "cell_type": "markdown",
   "metadata": {},
   "source": [
    "## 3.5 Function Application and Mapping(函数应用和映射)\n",
    "NumPy的ufuncs（ 元素级数组方法） 也可用于操作pandas对象："
   ]
  },
  {
   "cell_type": "code",
   "execution_count": 30,
   "metadata": {},
   "outputs": [
    {
     "name": "stdout",
     "output_type": "stream",
     "text": [
      "               b         d         e\n",
      "Utah   -1.444361 -0.273533  0.472929\n",
      "Ohio   -0.540647 -1.322840 -0.073766\n",
      "Texas   1.274084  0.219660 -0.546461\n",
      "Oregon -0.063869 -0.735520  0.620448\n",
      "\n",
      "               b         d         e\n",
      "Utah    1.444361  0.273533  0.472929\n",
      "Ohio    0.540647  1.322840  0.073766\n",
      "Texas   1.274084  0.219660  0.546461\n",
      "Oregon  0.063869  0.735520  0.620448\n"
     ]
    }
   ],
   "source": [
    "frame = pd.DataFrame(np.random.randn(4, 3), columns=list('bde'),index=['Utah', 'Ohio', 'Texas', 'Oregon'])\n",
    "print(frame)\n",
    "print()\n",
    "\n",
    "print(np.abs(frame))"
   ]
  },
  {
   "cell_type": "markdown",
   "metadata": {},
   "source": [
    "另一个常见的操作是， 将函数应用到由各列或行所形成的一维数组上。   \n",
    "DataFrame的apply方法(默认**每列执行一次**)即可实现此功能：  \n",
    "如果传递axis='columns'到apply， 这个函数会在每行执行："
   ]
  },
  {
   "cell_type": "code",
   "execution_count": 31,
   "metadata": {},
   "outputs": [
    {
     "name": "stdout",
     "output_type": "stream",
     "text": [
      "b    2.718445\n",
      "d    1.542499\n",
      "e    1.166909\n",
      "dtype: float64\n",
      "\n",
      "Utah      1.917290\n",
      "Ohio      1.249074\n",
      "Texas     1.820545\n",
      "Oregon    1.355968\n",
      "dtype: float64\n"
     ]
    }
   ],
   "source": [
    "f = lambda x: x.max() - x.min()\n",
    "print(frame.apply(f))\n",
    "print()\n",
    "print(frame.apply(f, axis='columns'))"
   ]
  },
  {
   "cell_type": "markdown",
   "metadata": {},
   "source": [
    "传递到apply的函数不是必须返回一个标量， 还可以返回由多个值组成的Series："
   ]
  },
  {
   "cell_type": "code",
   "execution_count": 32,
   "metadata": {},
   "outputs": [
    {
     "name": "stdout",
     "output_type": "stream",
     "text": [
      "            b        d         e\n",
      "min -1.444361 -1.32284 -0.546461\n",
      "max  1.274084  0.21966  0.620448\n"
     ]
    }
   ],
   "source": [
    "def f(x):\n",
    "    return pd.Series([x.min(), x.max()], index=['min','max'])\n",
    "\n",
    "print(frame.apply(f))"
   ]
  },
  {
   "cell_type": "markdown",
   "metadata": {},
   "source": [
    "如你想得到frame中各个浮点值的格式化字符串，使用applymap即可；  \n",
    "之所以叫做applymap， 是因为Series有一个用于应用元素级函数的map方法。"
   ]
  },
  {
   "cell_type": "code",
   "execution_count": 33,
   "metadata": {},
   "outputs": [
    {
     "name": "stdout",
     "output_type": "stream",
     "text": [
      "            b      d      e\n",
      "Utah    -1.44  -0.27   0.47\n",
      "Ohio    -0.54  -1.32  -0.07\n",
      "Texas    1.27   0.22  -0.55\n",
      "Oregon  -0.06  -0.74   0.62\n",
      "\n",
      "Utah       0.47\n",
      "Ohio      -0.07\n",
      "Texas     -0.55\n",
      "Oregon     0.62\n",
      "Name: e, dtype: object\n"
     ]
    }
   ],
   "source": [
    "format = lambda x: '%.2f' % x\n",
    "print(frame.applymap(format))\n",
    "print()\n",
    "print( frame['e'].map(format))"
   ]
  },
  {
   "cell_type": "markdown",
   "metadata": {},
   "source": [
    "许多最为常见的数组统计功能都被实现成DataFrame的方法（ 如sum和mean） ， 因此无需使用apply方法。"
   ]
  },
  {
   "cell_type": "markdown",
   "metadata": {},
   "source": [
    "## 3.6 Sorting and Ranking(排序和排名)\n",
    "### 3.6.1 sort\n",
    "在排序时， **任何缺失值默认都会被放到Series的末尾**：\n",
    "- sort_index方法:要对行或列索引进行排序（按字典顺序）它将返回一个已排序的**新对象**：\n",
    "    - 默认升序，指定降序时：ascending=False\n",
    "- sort_values方法：按值对Series进行排序"
   ]
  },
  {
   "cell_type": "code",
   "execution_count": 34,
   "metadata": {},
   "outputs": [
    {
     "name": "stdout",
     "output_type": "stream",
     "text": [
      "d    0\n",
      "a    1\n",
      "b    2\n",
      "c    3\n",
      "dtype: int64\n",
      "\n",
      "a    1\n",
      "b    2\n",
      "c    3\n",
      "d    0\n",
      "dtype: int64\n",
      "--------------------------------DataFrame排序\n",
      "frame=\n",
      "       d  a  b  c\n",
      "three  0  1  2  3\n",
      "one    4  5  6  7\n",
      "\n",
      "frame.sort_index()=\n",
      "       d  a  b  c\n",
      "one    4  5  6  7\n",
      "three  0  1  2  3\n",
      "\n",
      "frame.sort_index(axis=1,ascending=False)=\n",
      "       d  c  b  a\n",
      "three  0  3  2  1\n",
      "one    4  7  6  5\n"
     ]
    }
   ],
   "source": [
    "# Series\n",
    "obj = pd.Series(range(4), index=['d', 'a', 'b', 'c'])\n",
    "print(obj)\n",
    "print()\n",
    "\n",
    "print(obj.sort_index())\n",
    "\n",
    "print('--'*16+'DataFrame排序')\n",
    "# DataFrame\n",
    "frame = pd.DataFrame(np.arange(8).reshape((2, 4)),index=['three', 'one'],columns=['d', 'a', 'b', 'c'])\n",
    "print('frame=')\n",
    "print(frame)\n",
    "print()\n",
    "\n",
    "print('frame.sort_index()=')\n",
    "print(frame.sort_index())\n",
    "print()\n",
    "\n",
    "print('frame.sort_index(axis=1,ascending=False)=')\n",
    "print(frame.sort_index(axis=1,ascending=False))"
   ]
  },
  {
   "cell_type": "code",
   "execution_count": 35,
   "metadata": {},
   "outputs": [
    {
     "name": "stdout",
     "output_type": "stream",
     "text": [
      "2   -3\n",
      "3    2\n",
      "0    4\n",
      "1    7\n",
      "dtype: int64\n"
     ]
    }
   ],
   "source": [
    "# sort_values\n",
    "obj = pd.Series([4, 7, -3, 2])\n",
    "print(obj.sort_values())"
   ]
  },
  {
   "cell_type": "markdown",
   "metadata": {},
   "source": [
    "- by option of sort_values：指定一个或多个列中的值进行排序"
   ]
  },
  {
   "cell_type": "code",
   "execution_count": 36,
   "metadata": {},
   "outputs": [
    {
     "name": "stdout",
     "output_type": "stream",
     "text": [
      "   b  a\n",
      "0  4  0\n",
      "1  7  1\n",
      "2 -3  0\n",
      "3  2  1\n",
      "\n",
      "   b  a\n",
      "2 -3  0\n",
      "3  2  1\n",
      "0  4  0\n",
      "1  7  1\n",
      "\n",
      "   b  a\n",
      "2 -3  0\n",
      "0  4  0\n",
      "3  2  1\n",
      "1  7  1\n"
     ]
    }
   ],
   "source": [
    "frame = pd.DataFrame({'b': [4, 7, -3, 2], 'a': [0, 1, 0, 1]})\n",
    "print(frame)\n",
    "print()\n",
    "\n",
    "print(frame.sort_values(by='b'))\n",
    "print()\n",
    "\n",
    "print(frame.sort_values(by=['a','b']))"
   ]
  },
  {
   "cell_type": "markdown",
   "metadata": {},
   "source": [
    "### 3.6.2 rank\n",
    "rank方法：默认通过“为各组分配一个平均排名”的方式破坏平级关系\n",
    "- method 选项\n",
    "    - 'average'(Default): assign the average rank to each entry in the equal group\n",
    "    - 'min' Use the minimum rank for the whole group\n",
    "    - 'max' Use the maximum rank for the whole group\n",
    "    - 'first' Assign ranks in the order the values appear in the data\n",
    "    - 'dense' Like method='min', but ranks always increase by 1 in between groups rather than the number of equal elements in a group"
   ]
  },
  {
   "cell_type": "code",
   "execution_count": 46,
   "metadata": {
    "scrolled": true
   },
   "outputs": [
    {
     "name": "stdout",
     "output_type": "stream",
     "text": [
      "0    1\n",
      "1    1\n",
      "2    0\n",
      "3    2\n",
      "4    2\n",
      "5    2\n",
      "dtype: int64\n",
      "\n",
      "--------------------------------平均排名\n",
      "0    2.5\n",
      "1    2.5\n",
      "2    1.0\n",
      "3    5.0\n",
      "4    5.0\n",
      "5    5.0\n",
      "dtype: float64\n",
      "--------------------------------排名（同大小的以出现顺序为依据）\n",
      "0    2.0\n",
      "1    3.0\n",
      "2    1.0\n",
      "3    4.0\n",
      "4    5.0\n",
      "5    6.0\n",
      "dtype: float64\n",
      "--------------------------------dense方法(ranks only increase by 1 in between groups)\n",
      "0    2.0\n",
      "1    2.0\n",
      "2    1.0\n",
      "3    3.0\n",
      "4    3.0\n",
      "5    3.0\n",
      "dtype: float64\n",
      "--------------------------------平均降序排名\n",
      "0    4.5\n",
      "1    4.5\n",
      "2    6.0\n",
      "3    2.0\n",
      "4    2.0\n",
      "5    2.0\n",
      "dtype: float64\n",
      "--------------------------------降序排名（以分组中max值的rank为组中各值统一排名）\n",
      "0    5.0\n",
      "1    5.0\n",
      "2    6.0\n",
      "3    3.0\n",
      "4    3.0\n",
      "5    3.0\n",
      "dtype: float64\n"
     ]
    }
   ],
   "source": [
    "# Series\n",
    "obj = pd.Series([1,1,0,2,2,2])\n",
    "print(obj)\n",
    "print()\n",
    "\n",
    "print('-'*32+'平均排名')\n",
    "print(obj.rank())\n",
    "\n",
    "print('-'*32+'排名（同大小的以出现顺序为依据）')\n",
    "print(obj.rank(method='first'))\n",
    "\n",
    "print('-'*32+'dense方法(ranks only increase by 1 in between groups)')\n",
    "print(obj.rank(method='dense'))\n",
    "\n",
    "print('-'*32+'平均降序排名')\n",
    "print(obj.rank(ascending=False))\n",
    "\n",
    "\n",
    "print('-'*32+'降序排名（以分组中max值的rank为组中各值统一排名）')\n",
    "print(obj.rank(ascending=False,method='max'))"
   ]
  },
  {
   "cell_type": "code",
   "execution_count": 38,
   "metadata": {},
   "outputs": [
    {
     "name": "stdout",
     "output_type": "stream",
     "text": [
      "     b  a    c\n",
      "0  4.3  0 -2.0\n",
      "1  7.0  1  5.0\n",
      "2 -3.0  0  8.0\n",
      "3  2.0  1 -2.5\n",
      "--------------------------------通过axis指定按列排名\n",
      "     b    a    c\n",
      "0  3.0  2.0  1.0\n",
      "1  3.0  1.0  2.0\n",
      "2  1.0  2.0  3.0\n",
      "3  3.0  2.0  1.0\n"
     ]
    }
   ],
   "source": [
    "# DataFrame\n",
    "obj = pd.DataFrame({\n",
    "    'b':[4.3, 7, -3, 2],\n",
    "    'a':[0, 1, 0, 1],\n",
    "    'c':[-2, 5, 8, -2.5]\n",
    "})\n",
    "\n",
    "print(obj)\n",
    "\n",
    "print('-'*32+'通过axis指定按列排名')\n",
    "print(obj.rank(axis='columns'))"
   ]
  },
  {
   "cell_type": "markdown",
   "metadata": {},
   "source": [
    "# 4. Summarizing and Computing Descriptive Statistics(汇总和计算描述统计)\n",
    "pandas objects are equipped with a set of common mathematical and statistical methods. Most of these fall into the category of reductions or summary statistics, methods that extract a single value (like the sum or mean) from a Series or a Series of values from the rows or columns of a DataFrame. Compared with the similar methods found on NumPy arrays, they have built-in **handling for missing data**(NA值会自动被排除， 除非整个切片（ 这里指的是行或列） 都是NA。通过skipna选项可以禁用该功能). \n",
    "\n",
    "- axis: Axis to reduce over; 0 for DataFrame’s rows and 1 for columns\n",
    "- skipna: Exclude missing values; True by default\n",
    "- level: Reduce grouped by level if the axis is hierarchically indexed (MultiIndex)如果轴是层次化索引的（即MultiIndex），则根据level分组约简。\n",
    "\n",
    "Descriptive and summary statistics:\n",
    "- count: Number of non-NA values\n",
    "- describe: Compute set of summary statistics for Series or each DataFrame column\n",
    "- min, max: Compute minimum and maximum values\n",
    "- argmin, argmax: Compute index locations (integers) at which minimum or maximum value obtained, respectively\n",
    "- idxmin, idxmax: Compute index labels at which minimum or maximum value obtained, respectively\n",
    "- quantile: Compute sample quantile ranging from 0 to 1\n",
    "- sum: Sum of values\n",
    "- mean: Mean of values\n",
    "- median: Arithmetic median (50% quantile) of values\n",
    "- mad: Mean absolute deviation from mean value\n",
    "- prod: Product of all values\n",
    "- var: Sample variance of values\n",
    "- std: Sample standard de- viation of values\n",
    "- skew: Sample skewness (third moment) of values\n",
    "- kurt: Sample kurtosis (fourth moment) of values\n",
    "- cumsum: Cumulative sum of values\n",
    "- cummin, cummax: Cumulative minimum or maximum of values, respectively\n",
    "- cumprod: Cumulative product of values\n",
    "- diff: Compute frst arithmetic diﬀerence (useful for time series)\n",
    "- pct_change: Compute percent changes\n",
    "\n",
    "## 4.1 sum()、cumsum()"
   ]
  },
  {
   "cell_type": "code",
   "execution_count": 49,
   "metadata": {},
   "outputs": [
    {
     "name": "stdout",
     "output_type": "stream",
     "text": [
      "    one  two\n",
      "a  1.40  NaN\n",
      "b  7.10 -4.5\n",
      "c   NaN  NaN\n",
      "d  0.75 -1.3\n",
      "\n",
      "df.sum()=\n",
      "one    9.25\n",
      "two   -5.80\n",
      "dtype: float64\n",
      "\n",
      "df.sum(axis='columns')或者df.sum(axis=1)=\n",
      "a    1.40\n",
      "b    2.60\n",
      "c    0.00\n",
      "d   -0.55\n",
      "dtype: float64\n",
      "\n",
      "skipna=False 不排除缺失值：\n",
      "a     NaN\n",
      "b    2.60\n",
      "c     NaN\n",
      "d   -0.55\n",
      "dtype: float64\n",
      "\n",
      "df.cumsum()=\n",
      "    one  two\n",
      "a  1.40  NaN\n",
      "b  8.50 -4.5\n",
      "c   NaN  NaN\n",
      "d  9.25 -5.8\n"
     ]
    }
   ],
   "source": [
    "df = pd.DataFrame([[1.4, np.nan], [7.1, -4.5],[np.nan, np.nan], [0.75, -1.3]],\n",
    "                  index=['a', 'b', 'c', 'd'],\n",
    "                  columns=['one', 'two'])\n",
    "print(df)\n",
    "print()\n",
    "\n",
    "print('df.sum()=')\n",
    "print(df.sum())\n",
    "print()\n",
    "\n",
    "print('df.sum(axis=\\'columns\\')或者df.sum(axis=1)=')\n",
    "print(df.sum(axis='columns'))\n",
    "print()\n",
    "\n",
    "print('skipna=False 不排除缺失值：')\n",
    "print(df.sum(axis=1,skipna=False))\n",
    "print()\n",
    "\n",
    "# 累计型 cumsum()\n",
    "print('df.cumsum()=')\n",
    "print(df.cumsum())"
   ]
  },
  {
   "cell_type": "markdown",
   "metadata": {},
   "source": [
    "##  4.2  indirect statistic（返回索引）：sinxmin()、inxmax()"
   ]
  },
  {
   "cell_type": "code",
   "execution_count": 50,
   "metadata": {},
   "outputs": [
    {
     "name": "stdout",
     "output_type": "stream",
     "text": [
      "one    b\n",
      "two    d\n",
      "dtype: object\n"
     ]
    }
   ],
   "source": [
    "print(df.idxmax())"
   ]
  },
  {
   "cell_type": "markdown",
   "metadata": {},
   "source": [
    "## 4.3 describe()：一次性产生多个汇总统计"
   ]
  },
  {
   "cell_type": "code",
   "execution_count": 56,
   "metadata": {},
   "outputs": [
    {
     "name": "stdout",
     "output_type": "stream",
     "text": [
      "            one       two\n",
      "count  3.000000  2.000000\n",
      "mean   3.083333 -2.900000\n",
      "std    3.493685  2.262742\n",
      "min    0.750000 -4.500000\n",
      "25%    1.075000 -3.700000\n",
      "50%    1.400000 -2.900000\n",
      "75%    4.250000 -2.100000\n",
      "max    7.100000 -1.300000\n",
      "--------------------------------对非数值型数据describe产生另外一种汇总统计\n",
      "['a', 'a', 'b', 'c', 'a', 'a', 'b', 'c', 'a', 'a', 'b', 'c', 'a', 'a', 'b', 'c']\n",
      "0     a\n",
      "1     a\n",
      "2     b\n",
      "3     c\n",
      "4     a\n",
      "5     a\n",
      "6     b\n",
      "7     c\n",
      "8     a\n",
      "9     a\n",
      "10    b\n",
      "11    c\n",
      "12    a\n",
      "13    a\n",
      "14    b\n",
      "15    c\n",
      "dtype: object\n",
      "count     16\n",
      "unique     3\n",
      "top        a\n",
      "freq       8\n",
      "dtype: object\n"
     ]
    }
   ],
   "source": [
    "# 数值型数据\n",
    "print(df.describe())\n",
    "\n",
    "# 非数值型数据\n",
    "print('-'*32+'对非数值型数据describe产生另外一种汇总统计')\n",
    "\n",
    "print(['a', 'a', 'b', 'c'] * 4)\n",
    "obj = pd.Series(['a', 'a', 'b', 'c'] * 4)\n",
    "print(obj)\n",
    "print(obj.describe())"
   ]
  },
  {
   "cell_type": "markdown",
   "metadata": {},
   "source": [
    "## 4.4 Correlation and Covariance(相关系数与协方差)\n",
    "Some summary statistics, like correlation and covariance, are computed from pairs of arguments.   \n",
    "我们来看几个DataFrame， 它们的数据来自Yahoo!Finance的股票价格和成交量， 使用的是pandas-datareader包（ 可以用conda或pip安装）：  \n",
    "```python\n",
    "conda install pandas-datareader\n",
    "```\n",
    "\n",
    "- Series的 **corr方法**: 用于计算两个Series中重叠的、 非NA的、 按索引对齐的值的相关系数。   \n",
    "- **cov** 用于计算协方差。\n",
    "- axis='columns'：按行进行计算。"
   ]
  },
  {
   "cell_type": "code",
   "execution_count": 61,
   "metadata": {},
   "outputs": [
    {
     "name": "stdout",
     "output_type": "stream",
     "text": [
      "                AAPL       IBM      MSFT      GOOG\n",
      "Date                                              \n",
      "2009-12-31       NaN       NaN       NaN       NaN\n",
      "2010-01-04  0.015565  0.011841  0.015420  0.010920\n",
      "2010-01-05  0.001729 -0.012080  0.000323 -0.004404\n",
      "2010-01-06 -0.015906 -0.006496 -0.006137 -0.025209\n",
      "2010-01-07 -0.001848 -0.003462 -0.010400 -0.023280\n",
      "2010-01-08  0.006648  0.010035  0.006897  0.013331\n",
      "2010-01-11 -0.008822 -0.010470 -0.012720 -0.001512\n",
      "2010-01-12 -0.011375  0.007955 -0.006607 -0.017684\n",
      "2010-01-13  0.014106 -0.002145  0.009312 -0.005741\n",
      "2010-01-14 -0.005792  0.015972  0.020099  0.004701\n",
      "2010-01-15 -0.016712 -0.004006 -0.003230 -0.016699\n",
      "2010-01-19  0.044238  0.017908  0.007777  0.013138\n",
      "2010-01-20 -0.015392 -0.028999 -0.016399 -0.012270\n",
      "2010-01-21 -0.017286 -0.009597 -0.018960  0.004428\n",
      "2010-01-22 -0.049599 -0.027132 -0.034988 -0.056554\n",
      "2010-01-25  0.026903  0.004940  0.012431 -0.018200\n",
      "2010-01-26  0.014133 -0.002934  0.006139  0.004481\n",
      "2010-01-27  0.009420  0.004612  0.005763 -0.000590\n",
      "2010-01-28 -0.041322 -0.020423 -0.017189 -0.014407\n",
      "2010-01-29 -0.036279 -0.010990 -0.033608 -0.008142\n",
      "2010-02-01  0.013902  0.018629  0.008162  0.005812\n",
      "2010-02-02  0.005803  0.006898  0.001760 -0.003565\n",
      "2010-02-03  0.017206  0.001036  0.005973  0.018263\n",
      "2010-02-04 -0.036038 -0.021168 -0.027593 -0.025961\n",
      "2010-02-05  0.017755  0.004227  0.006466  0.008561\n",
      "2010-02-08 -0.006855 -0.008864 -0.010707  0.004103\n",
      "2010-02-09  0.010663  0.010912  0.010462  0.005567\n",
      "2010-02-10 -0.005454 -0.003246 -0.000714 -0.003710\n",
      "2010-02-11  0.018194  0.007492  0.004645  0.003649\n",
      "2010-02-12  0.008607  0.002182 -0.006757 -0.006115\n",
      "...              ...       ...       ...       ...\n",
      "2019-06-04  0.036584  0.034459  0.027704  0.016232\n",
      "2019-06-05  0.016143 -0.009044  0.021679 -0.010284\n",
      "2019-06-06  0.014682  0.005552  0.015815  0.002034\n",
      "2019-06-07  0.026617  0.008244  0.028008  0.020779\n",
      "2019-06-10  0.012779  0.010727  0.009133  0.013452\n",
      "2019-06-11  0.011580  0.008980 -0.003771 -0.001537\n",
      "2019-06-12 -0.003183 -0.007944 -0.004618 -0.001567\n",
      "2019-06-13 -0.000206  0.006599  0.006312  0.010900\n",
      "2019-06-14 -0.007262 -0.004493  0.000982 -0.003141\n",
      "2019-06-17  0.005967 -0.001480  0.003020  0.006588\n",
      "2019-06-18  0.023518  0.010597  0.017388  0.010160\n",
      "2019-06-19 -0.002923  0.005133  0.003921 -0.001151\n",
      "2019-06-20  0.008036  0.012912  0.009286  0.008246\n",
      "2019-06-21 -0.003409  0.002521  0.000146  0.009411\n",
      "2019-06-24 -0.001006  0.001078  0.005914 -0.005669\n",
      "2019-06-25 -0.015158 -0.007104 -0.031572 -0.026149\n",
      "2019-06-26  0.021629  0.001156  0.003747 -0.006029\n",
      "2019-06-27 -0.000300  0.000000  0.001643 -0.003510\n",
      "2019-06-28 -0.009112 -0.004476 -0.001416  0.004554\n",
      "2019-07-01  0.018341  0.014358  0.012840  0.015764\n",
      "2019-07-02  0.005855  0.002431  0.006633  0.012114\n",
      "2019-07-03  0.008287  0.009414  0.006443  0.009296\n",
      "2019-07-05 -0.000881 -0.001130 -0.002910  0.008925\n",
      "2019-07-08 -0.020614 -0.005729 -0.000730 -0.013468\n",
      "2019-07-09  0.006099 -0.008821 -0.003651  0.007596\n",
      "2019-07-10  0.009889  0.008182  0.010186  0.013913\n",
      "2019-07-11 -0.007282  0.005482  0.003990  0.003271\n",
      "2019-07-12  0.007683  0.010620  0.003613  0.000603\n",
      "2019-07-15  0.009395  0.004063  0.000000  0.004751\n",
      "2019-07-16 -0.003460  0.001465 -0.013103  0.002817\n",
      "\n",
      "[2400 rows x 4 columns]\n"
     ]
    }
   ],
   "source": [
    "import pandas_datareader.data as web\n",
    "all_data = {ticker: web.get_data_yahoo(ticker)\n",
    "for ticker in ['AAPL', 'IBM', 'MSFT', 'GOOG']}\n",
    "price = pd.DataFrame({ticker: data['Adj Close']\n",
    "for ticker, data in all_data.items()})\n",
    "volume = pd.DataFrame({ticker: data['Volume']\n",
    "for ticker, data in all_data.items()})\n",
    "\n",
    "returns = price.pct_change()\n",
    "\n",
    "print(returns)"
   ]
  },
  {
   "cell_type": "code",
   "execution_count": 63,
   "metadata": {},
   "outputs": [
    {
     "name": "stdout",
     "output_type": "stream",
     "text": [
      "--------------------------------Series的corr方法\n",
      "0.4872944911257091\n",
      "0.4872944911257091\n",
      "--------------------------------Series的cov方法\n",
      "8.646817159663317e-05\n"
     ]
    }
   ],
   "source": [
    "# Series的corr方法\n",
    "print('-'*32+'Series的corr方法')\n",
    "print(returns['MSFT'].corr(returns['IBM']))\n",
    "# 因为MSTF是一个合理的Python属性， 我们还可以用更简洁的语法选择列\n",
    "print(returns.MSFT.corr(returns.IBM))      \n",
    "\n",
    "# Series的cov方法\n",
    "print('-'*32+'Series的cov方法')\n",
    "print(returns['MSFT'].cov(returns['IBM']))"
   ]
  },
  {
   "cell_type": "code",
   "execution_count": 65,
   "metadata": {},
   "outputs": [
    {
     "name": "stdout",
     "output_type": "stream",
     "text": [
      "returns.corr()=\n",
      "          AAPL       IBM      MSFT      GOOG\n",
      "AAPL  1.000000  0.379782  0.453139  0.461067\n",
      "IBM   0.379782  1.000000  0.487294  0.403301\n",
      "MSFT  0.453139  0.487294  1.000000  0.537799\n",
      "GOOG  0.461067  0.403301  0.537799  1.000000\n",
      "\n",
      "returns.cov()=\n",
      "          AAPL       IBM      MSFT      GOOG\n",
      "AAPL  0.000265  0.000076  0.000107  0.000116\n",
      "IBM   0.000076  0.000151  0.000086  0.000076\n",
      "MSFT  0.000107  0.000086  0.000208  0.000120\n",
      "GOOG  0.000116  0.000076  0.000120  0.000238\n"
     ]
    }
   ],
   "source": [
    "# DataFrame的corr和cov方法将以DataFrame的形式分别返回完整的相关系数或协方差矩阵\n",
    "print('returns.corr()=')\n",
    "print(returns.corr())\n",
    "print()\n",
    "\n",
    "print('returns.cov()=')\n",
    "print(returns.cov())"
   ]
  },
  {
   "cell_type": "markdown",
   "metadata": {},
   "source": [
    "DataFrame的 **corrwith** 方法：计算其列或行跟另一个Series或DataFrame之间的相关系数。   \n",
    "- 传入一个Series:将会返回一个相关系数值Series（针对各列进行计算）\n",
    "- 传入一个DataFrame:则会计算按列名配对的相关系数"
   ]
  },
  {
   "cell_type": "code",
   "execution_count": 67,
   "metadata": {},
   "outputs": [
    {
     "name": "stdout",
     "output_type": "stream",
     "text": [
      "AAPL    0.379782\n",
      "IBM     1.000000\n",
      "MSFT    0.487294\n",
      "GOOG    0.403301\n",
      "dtype: float64\n",
      "AAPL   -0.062555\n",
      "IBM    -0.156651\n",
      "MSFT   -0.090247\n",
      "GOOG   -0.021551\n",
      "dtype: float64\n"
     ]
    }
   ],
   "source": [
    "print(returns.corrwith(returns.IBM))\n",
    "print()\n",
    "print(returns.corrwith(volume))"
   ]
  },
  {
   "cell_type": "markdown",
   "metadata": {},
   "source": [
    "## 4.5 Unique Values, Value Counts, and Membership（唯一值、 值计数以及成员资格）\n",
    "### 4.5.1 unique方法：得到Series中的唯一值数组(未排序)"
   ]
  },
  {
   "cell_type": "code",
   "execution_count": 70,
   "metadata": {},
   "outputs": [
    {
     "name": "stdout",
     "output_type": "stream",
     "text": [
      "['c' 'a' 'd' 'b']\n",
      "None\n",
      "['a' 'b' 'c' 'd']\n"
     ]
    }
   ],
   "source": [
    "obj = pd.Series(['c', 'a', 'd', 'a', 'a', 'b', 'b', 'c'\n",
    ", 'c'])\n",
    "uniques = obj.unique()\n",
    "print(uniques)\n",
    "print(uniques.sort())\n",
    "print(uniques)"
   ]
  },
  {
   "cell_type": "markdown",
   "metadata": {},
   "source": [
    "### 4.5.2 value_counts方法：用于计算一个Series中各值出现的频率(降序排列)\n",
    "Series的value_counts方法还是一个顶级pandas方法， 可用于任何数组或序列。"
   ]
  },
  {
   "cell_type": "code",
   "execution_count": 90,
   "metadata": {},
   "outputs": [
    {
     "name": "stdout",
     "output_type": "stream",
     "text": [
      "a    3\n",
      "c    3\n",
      "b    2\n",
      "d    1\n",
      "dtype: int64\n",
      "\n",
      "c    3\n",
      "b    2\n",
      "a    3\n",
      "d    1\n",
      "dtype: int64\n",
      "--------------------------------使用df.apply(pd.value_counts)应用于DataFrame\n",
      "   Qu1  Qu2  Qu3\n",
      "1  1.0  1.0  1.0\n",
      "2  NaN  2.0  1.0\n",
      "3  2.0  2.0  NaN\n",
      "4  2.0  NaN  2.0\n",
      "5  NaN  NaN  1.0\n",
      "   Qu1  Qu2  Qu3\n",
      "1  1.0  1.0  1.0\n",
      "2  0.0  2.0  1.0\n",
      "3  2.0  2.0  0.0\n",
      "4  2.0  0.0  2.0\n",
      "5  0.0  0.0  1.0\n"
     ]
    }
   ],
   "source": [
    "print(obj.value_counts())\n",
    "print()\n",
    "\n",
    "print(pd.value_counts(obj, sort=False))\n",
    "\n",
    "# DataFrame\n",
    "print('-'*32+'使用df.apply(pd.value_counts)应用于DataFrame')\n",
    "data = pd.DataFrame({'Qu1': [1, 3, 4, 3, 4],\n",
    "'Qu2': [2, 3, 1, 2, 3],\n",
    "'Qu3': [1, 5, 2, 4, 4]})\n",
    "\n",
    "print(data.apply(pd.value_counts))\n",
    "print(data.apply(pd.value_counts).fillna(0))"
   ]
  },
  {
   "cell_type": "markdown",
   "metadata": {},
   "source": [
    "### 4.5.3 isin方法：用于判断矢量化集合的成员资格， 可用于过滤Series中或DataFrame列中数据的子集"
   ]
  },
  {
   "cell_type": "code",
   "execution_count": 76,
   "metadata": {},
   "outputs": [
    {
     "name": "stdout",
     "output_type": "stream",
     "text": [
      "0    c\n",
      "1    a\n",
      "2    d\n",
      "3    a\n",
      "4    a\n",
      "5    b\n",
      "6    b\n",
      "7    c\n",
      "8    c\n",
      "dtype: object\n",
      "\n",
      "0     True\n",
      "1    False\n",
      "2    False\n",
      "3    False\n",
      "4    False\n",
      "5     True\n",
      "6     True\n",
      "7     True\n",
      "8     True\n",
      "dtype: bool\n",
      "\n",
      "0    c\n",
      "5    b\n",
      "6    b\n",
      "7    c\n",
      "8    c\n",
      "dtype: object\n"
     ]
    }
   ],
   "source": [
    "print(obj)\n",
    "print()\n",
    "\n",
    "mask = obj.isin(['b','c'])\n",
    "print(mask)\n",
    "print()\n",
    "\n",
    "print(obj[mask])"
   ]
  },
  {
   "cell_type": "code",
   "execution_count": 79,
   "metadata": {},
   "outputs": [
    {
     "name": "stdout",
     "output_type": "stream",
     "text": [
      "Index(['b', 'c'], dtype='object')\n",
      "[ 1 -1 -1 -1 -1  0  0  1  1]\n"
     ]
    }
   ],
   "source": [
    "# 与isin有点类似的是Index.get_indexer方法\n",
    "unique_vals = pd.Series(['b','c'])\n",
    "print(pd.Index(unique_vals))\n",
    "\n",
    "print(pd.Index(unique_vals).get_indexer(obj))"
   ]
  },
  {
   "cell_type": "markdown",
   "metadata": {},
   "source": [
    "# . pandas中的函数\n",
    "## .1 isnull 和 notnull 函数 以及 Series的实例方法\n",
    "用于检检测缺失数据"
   ]
  },
  {
   "cell_type": "code",
   "execution_count": 12,
   "metadata": {},
   "outputs": [
    {
     "name": "stdout",
     "output_type": "stream",
     "text": [
      "California        NaN\n",
      "Ohio          35000.0\n",
      "Oregon        16000.0\n",
      "Texas         71000.0\n",
      "dtype: float64\n",
      "\n",
      "California     True\n",
      "Ohio          False\n",
      "Oregon        False\n",
      "Texas         False\n",
      "dtype: bool\n",
      "\n",
      "California     True\n",
      "Ohio          False\n",
      "Oregon        False\n",
      "Texas         False\n",
      "dtype: bool\n",
      "\n",
      "California    False\n",
      "Ohio           True\n",
      "Oregon         True\n",
      "Texas          True\n",
      "dtype: bool\n"
     ]
    }
   ],
   "source": [
    "sdata = {'Ohio': 35000, 'Texas': 71000, 'Oregon': 16000, 'Utah': 5000}\n",
    "states = ['California', 'Ohio', 'Oregon', 'Texas']\n",
    "temp = pd.Series(sdata,index=states)\n",
    "print(temp)\n",
    "print()\n",
    "\n",
    "print(pd.isnull(temp))\n",
    "print()\n",
    "\n",
    "print(temp.isnull())\n",
    "print()\n",
    "\n",
    "print(pd.notnull(temp))"
   ]
  }
 ],
 "metadata": {
  "kernelspec": {
   "display_name": "Python 3",
   "language": "python",
   "name": "python3"
  },
  "language_info": {
   "codemirror_mode": {
    "name": "ipython",
    "version": 3
   },
   "file_extension": ".py",
   "mimetype": "text/x-python",
   "name": "python",
   "nbconvert_exporter": "python",
   "pygments_lexer": "ipython3",
   "version": "3.6.8"
  },
  "toc": {
   "base_numbering": 1,
   "nav_menu": {},
   "number_sections": true,
   "sideBar": true,
   "skip_h1_title": false,
   "title_cell": "Table of Contents",
   "title_sidebar": "Contents",
   "toc_cell": false,
   "toc_position": {
    "height": "calc(100% - 180px)",
    "left": "10px",
    "top": "150px",
    "width": "293.865px"
   },
   "toc_section_display": true,
   "toc_window_display": true
  }
 },
 "nbformat": 4,
 "nbformat_minor": 2
}
