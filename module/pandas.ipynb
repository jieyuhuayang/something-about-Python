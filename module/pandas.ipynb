{
 "cells": [
  {
   "cell_type": "code",
   "execution_count": 1,
   "metadata": {
    "collapsed": true
   },
   "outputs": [],
   "source": [
    "import pandas as pd\n",
    "import numpy as np\n",
    "import matplotlib.pyplot as plt"
   ]
  },
  {
   "cell_type": "markdown",
   "metadata": {},
   "source": [
    "# 1. pandas 介绍\n",
    "1.1 Pandas处理以下三个数据结构，这些数据结构构建在Numpy数组之上，这意味着它们很快。 \n",
    "- 系列(Series)\n",
    "- 数据帧(DataFrame)\n",
    "- 面板(Panel)  \n"
   ]
  },
  {
   "cell_type": "markdown",
   "metadata": {},
   "source": [
    "# 2. Series和dataframe\n",
    "## 2.1 series\n",
    "- 它由一组数据（各种NumPy数据类型）以及一组与之相关的数据标签（即索引index）组成。  \n",
    "- Series的**字符串表现形式**为：索引在左边，值在右边。如果没有为数据指定索引会自动创建一个0到N-1（N为长度）的整数型索引。\n",
    "- Series看成是一个定长的有序字典\n",
    "\n",
    "所有Pandas数据结构是**值可变的**(可以更改)，除了Series(系列)都是大小可变的。Series是大小不变的。  \n",
    "  \n",
    "### 2.1.1 用list和dict创建Series"
   ]
  },
  {
   "cell_type": "code",
   "execution_count": 2,
   "metadata": {},
   "outputs": [
    {
     "name": "stdout",
     "output_type": "stream",
     "text": [
      "-----------------通过list创建--------------\n",
      "d    4\n",
      "b    7\n",
      "a   -5\n",
      "c    3\n",
      "dtype: int64\n",
      "\n",
      "obj.index: Index(['d', 'b', 'a', 'c'], dtype='object')\n",
      "\n",
      "obj.values: [ 4  7 -5  3]\n",
      "\n",
      "-------------通过字典创建Series------------\n",
      "Ohio      35000\n",
      "Texas     71000\n",
      "Oregon    16000\n",
      "Utah       5000\n",
      "dtype: int64\n",
      "\n",
      "index参数：通过传入排过序的字典key 改变Series顺序\n",
      "\n",
      "California        NaN\n",
      "Ohio          35000.0\n",
      "Oregon        16000.0\n",
      "Texas         71000.0\n",
      "dtype: float64\n"
     ]
    }
   ],
   "source": [
    "# 通过list 创建一个含有对各个数据点进行标记的index 的 Series\n",
    "print('-----------------通过list创建--------------')\n",
    "obj = pd.Series([4, 7, -5, 3], index=['d', 'b', 'a', 'c'])\n",
    "print(obj)\n",
    "print('\\nobj.index:',obj.index)\n",
    "print('\\nobj.values:',obj.values)\n",
    "\n",
    "# 通过字典创建Series\n",
    "print('\\n-------------通过字典创建Series------------')\n",
    "sdata = {'Ohio': 35000, 'Texas': 71000, 'Oregon': 16000, 'Utah': 5000}\n",
    "obj2 = pd.Series(sdata)\n",
    "print(obj2)\n",
    "\n",
    "# index参数：通过传入排过序的字典key 改变Series顺序\n",
    "print('\\nindex参数：通过传入排过序的字典key 改变Series顺序\\n')\n",
    "s_index = ['California', 'Ohio', 'Oregon', 'Texas']\n",
    "obj3 = pd.Series(sdata,index=s_index)\n",
    "print(obj3)"
   ]
  },
  {
   "cell_type": "markdown",
   "metadata": {},
   "source": [
    "### 2.1.2 用index选取Series中的值并进行修改"
   ]
  },
  {
   "cell_type": "code",
   "execution_count": 3,
   "metadata": {},
   "outputs": [
    {
     "name": "stdout",
     "output_type": "stream",
     "text": [
      "obj['a']= -5\n",
      "\n",
      "obj[['a','b','c']] =\n",
      "a    2222\n",
      "b       7\n",
      "c       3\n",
      "dtype: int64\n"
     ]
    }
   ],
   "source": [
    "print('obj[\\'a\\']=',obj['a'])\n",
    "print()\n",
    "\n",
    "obj['a']=2222\n",
    "\n",
    "# 用列表进行多值索引\n",
    "print('obj[[\\'a\\',\\'b\\',\\'c\\']] =')\n",
    "print(obj[['a','b','c']])"
   ]
  },
  {
   "cell_type": "markdown",
   "metadata": {},
   "source": [
    "### 2.1.3 修改index"
   ]
  },
  {
   "cell_type": "code",
   "execution_count": 4,
   "metadata": {},
   "outputs": [
    {
     "name": "stdout",
     "output_type": "stream",
     "text": [
      "d       4\n",
      "b       7\n",
      "a    2222\n",
      "c       3\n",
      "dtype: int64\n",
      "\n",
      "aa       4\n",
      "bb       7\n",
      "c     2222\n",
      "d        3\n",
      "dtype: int64\n"
     ]
    }
   ],
   "source": [
    "print(obj)\n",
    "print()\n",
    "# 直接赋值进行修改\n",
    "obj.index = ['aa','bb','c','d']\n",
    "\n",
    "print(obj)"
   ]
  },
  {
   "cell_type": "markdown",
   "metadata": {},
   "source": [
    "### 2.1.4 Series的运算\n",
    "以下是数值计算及逻辑计算，它能够根据index自动对齐。"
   ]
  },
  {
   "cell_type": "code",
   "execution_count": 5,
   "metadata": {},
   "outputs": [
    {
     "name": "stdout",
     "output_type": "stream",
     "text": [
      "obj[obj>0]=\n",
      "aa       4\n",
      "bb       7\n",
      "c     2222\n",
      "d        3\n",
      "dtype: int64\n",
      "\n",
      "obj*2=\n",
      "aa       8\n",
      "bb      14\n",
      "c     4444\n",
      "d        6\n",
      "dtype: int64\n",
      "\n",
      "np.exp(obj)=\n",
      "aa      54.598150\n",
      "bb    1096.633158\n",
      "c             inf\n",
      "d       20.085537\n",
      "dtype: float64\n"
     ]
    }
   ],
   "source": [
    "print('obj[obj>0]=')\n",
    "print(obj[obj>0])\n",
    "print()\n",
    "\n",
    "print('obj*2=')\n",
    "print(obj*2)\n",
    "print()\n",
    "\n",
    "print('np.exp(obj)=')\n",
    "print(np.exp(obj))"
   ]
  },
  {
   "cell_type": "code",
   "execution_count": 6,
   "metadata": {},
   "outputs": [
    {
     "name": "stdout",
     "output_type": "stream",
     "text": [
      "Ohio      35000\n",
      "Texas     71000\n",
      "Oregon    16000\n",
      "Utah       5000\n",
      "dtype: int64\n",
      "\n",
      "California        NaN\n",
      "Ohio          35000.0\n",
      "Oregon        16000.0\n",
      "Texas         71000.0\n",
      "dtype: float64\n",
      "\n",
      "California         NaN\n",
      "Ohio           70000.0\n",
      "Oregon         32000.0\n",
      "Texas         142000.0\n",
      "Utah               NaN\n",
      "dtype: float64\n"
     ]
    }
   ],
   "source": [
    "print(obj2)\n",
    "print()\n",
    "print(obj3)\n",
    "print()\n",
    "\n",
    "print(obj2+obj3)"
   ]
  },
  {
   "cell_type": "markdown",
   "metadata": {},
   "source": [
    "## 2.2 DataFrame  \n",
    "DataFrame是一个表格型的数据结构，它包含有**一组**有序的**列**，每列可以是不同的值类型（数值，字符串，布尔值等）。  \n",
    "it can be thought of as a dict of Series all sharing the same index.  \n",
    "### 2.2.1 创建一个DataFrame\n",
    "最常用的方法是传入 a dict of equal-length lists or NumPy arrays"
   ]
  },
  {
   "cell_type": "code",
   "execution_count": 7,
   "metadata": {},
   "outputs": [
    {
     "name": "stdout",
     "output_type": "stream",
     "text": [
      "    state  year  pop\n",
      "0    Ohio  2000  1.5\n",
      "1    Ohio  2001  1.7\n",
      "2    Ohio  2002  3.6\n",
      "3  Nevada  2001  2.4\n",
      "4  Nevada  2002  2.9\n",
      "5  Nevada  2003  3.2\n",
      "\n",
      "pd.DataFrame(np.arange(12).reshape((3,4))):\n",
      "   0  1   2   3\n",
      "0  0  1   2   3\n",
      "1  4  5   6   7\n",
      "2  8  9  10  11\n",
      "--------------------------------\n",
      "\n",
      "创建时指定列的顺序及index:\n",
      "       year   state  pop\n",
      "one    2000    Ohio  1.5\n",
      "two    2001    Ohio  1.7\n",
      "three  2002    Ohio  3.6\n",
      "four   2001  Nevada  2.4\n",
      "five   2002  Nevada  2.9\n",
      "six    2003  Nevada  3.2\n"
     ]
    }
   ],
   "source": [
    "# 直接传入一个由 等长的 列表或NumPy数组 组成的字典\n",
    "data = {'state': ['Ohio', 'Ohio', 'Ohio', 'Nevada', 'Nevada', 'Nevada'],\n",
    "        'year': [2000, 2001, 2002, 2001, 2002, 2003],\n",
    "        'pop': [1.5, 1.7, 3.6, 2.4, 2.9, 3.2]}\n",
    "df = pd.DataFrame(data)\n",
    "print(df)\n",
    "print()\n",
    "\n",
    "df1 = pd.DataFrame(np.arange(12).reshape((3,4)))\n",
    "print(\"pd.DataFrame(np.arange(12).reshape((3,4))):\")\n",
    "print(df1)\n",
    "\n",
    "print(\"--\"*16)\n",
    "print('\\n创建时指定列的顺序及index:')\n",
    "\n",
    "# 创建时指定列的顺序及index\n",
    "print(pd.DataFrame(data,columns=['year','state','pop'],index=['one', 'two', 'three', 'four','five', 'six']))"
   ]
  },
  {
   "cell_type": "markdown",
   "metadata": {},
   "source": [
    "### 2.2.2 查看一个DataFrame\n",
    "- head方法:对于特别大的DataFrame，head方法会选取前五行\n",
    "- 类似字典属性：A column in a DataFrame can be retrieved as a Series\n",
    "- loc属性：获取行\n",
    "- columns属性：获取表头"
   ]
  },
  {
   "cell_type": "code",
   "execution_count": 8,
   "metadata": {},
   "outputs": [
    {
     "name": "stdout",
     "output_type": "stream",
     "text": [
      "    state  year  pop\n",
      "0    Ohio  2000  1.5\n",
      "1    Ohio  2001  1.7\n",
      "2    Ohio  2002  3.6\n",
      "3  Nevada  2001  2.4\n",
      "4  Nevada  2002  2.9\n",
      "----------------------------------------\n",
      "df['state']:\n",
      "0      Ohio\n",
      "1      Ohio\n",
      "2      Ohio\n",
      "3    Nevada\n",
      "4    Nevada\n",
      "5    Nevada\n",
      "Name: state, dtype: object\n",
      "\n",
      "df.state:\n",
      "0      Ohio\n",
      "1      Ohio\n",
      "2      Ohio\n",
      "3    Nevada\n",
      "4    Nevada\n",
      "5    Nevada\n",
      "Name: state, dtype: object\n",
      "----------------------------------------\n",
      "df.loc[2]:\n",
      "state    Ohio\n",
      "year     2002\n",
      "pop       3.6\n",
      "Name: 2, dtype: object\n",
      "----------------------------------------\n",
      "df.columns:\n",
      "Index(['state', 'year', 'pop'], dtype='object')\n"
     ]
    }
   ],
   "source": [
    "#head 方法\n",
    "print(df.head())\n",
    "print('--'*20)\n",
    "\n",
    "# 将DataFrame的列获取为一个Series：\n",
    "print('df[\\'state\\']:')\n",
    "print(df['state'])\n",
    "print()\n",
    "\n",
    "# frame2[column]适用于任何列的名， 但是frame2.column只有在列名是一个合理的Python变量名时才适用。\n",
    "print('df.state:')\n",
    "print(df.state)\n",
    "\n",
    "print('--'*20)\n",
    "print('df.loc[2]:')\n",
    "print(df.loc[2])\n",
    "\n",
    "print('--'*20)\n",
    "print('df.columns:')\n",
    "print(df.columns)"
   ]
  },
  {
   "cell_type": "markdown",
   "metadata": {},
   "source": [
    "### 2.2.3 对DataFrame进行操作\n",
    "- 对列赋值\n",
    "    - 将列表或数组赋值给**某个列**时， 其长度必须跟DataFrame的长度相匹配\n",
    "    - 用Series进行赋值，则会**精确匹配DataFrame的index**，**所有空位都会被填上缺失值**\n",
    "    - 为不存在的列赋值会创建出一个新列。\n",
    "- 删除列"
   ]
  },
  {
   "cell_type": "code",
   "execution_count": 9,
   "metadata": {},
   "outputs": [
    {
     "name": "stdout",
     "output_type": "stream",
     "text": [
      "    state  year  pop\n",
      "0    Ohio  2000  1.5\n",
      "1    Ohio  2001  1.7\n",
      "2    Ohio  2002  3.6\n",
      "3  Nevada  2001  2.4\n",
      "4  Nevada  2002  2.9\n",
      "5  Nevada  2003  3.2\n",
      "\n",
      "df['pop'] = np.arange(6):\n",
      "    state  year  pop\n",
      "0    Ohio  2000    0\n",
      "1    Ohio  2001    1\n",
      "2    Ohio  2002    2\n",
      "3  Nevada  2001    3\n",
      "4  Nevada  2002    4\n",
      "5  Nevada  2003    5\n",
      "----------------------------------------\n",
      "df['pop'] = Series:\n",
      "    state  year  pop\n",
      "0    Ohio  2000  NaN\n",
      "1    Ohio  2001 -1.5\n",
      "2    Ohio  2002 -1.7\n",
      "3  Nevada  2001 -1.2\n",
      "4  Nevada  2002  NaN\n",
      "5  Nevada  2003  NaN\n",
      "----------------------------------------\n",
      "    state  year  pop  to_be_del\n",
      "0    Ohio  2000  NaN       True\n",
      "1    Ohio  2001 -1.5       True\n",
      "2    Ohio  2002 -1.7       True\n",
      "3  Nevada  2001 -1.2      False\n",
      "4  Nevada  2002  NaN      False\n",
      "5  Nevada  2003  NaN      False\n"
     ]
    }
   ],
   "source": [
    "print(df)\n",
    "print()\n",
    "\n",
    "df['pop'] = np.arange(6)\n",
    "print('df[\\'pop\\'] = np.arange(6):')\n",
    "print(df)\n",
    "print('--'*20)\n",
    "\n",
    "val = pd.Series([-1.2, -1.5, -1.7],index=[3,1,2])\n",
    "df['pop'] = val\n",
    "print('df[\\'pop\\'] = Series:')\n",
    "print(df)\n",
    "print('--'*20)\n",
    "\n",
    "# 为不存在的列赋值会创建出一个新列。\n",
    "df['to_be_del'] = (df.state=='Ohio')\n",
    "print(df)"
   ]
  },
  {
   "cell_type": "code",
   "execution_count": 10,
   "metadata": {},
   "outputs": [
    {
     "name": "stdout",
     "output_type": "stream",
     "text": [
      "Index(['state', 'year', 'pop'], dtype='object')\n"
     ]
    }
   ],
   "source": [
    "# del方法用来删除列：\n",
    "del df['to_be_del']\n",
    "print(df.columns)"
   ]
  },
  {
   "cell_type": "code",
   "execution_count": 11,
   "metadata": {},
   "outputs": [
    {
     "name": "stdout",
     "output_type": "stream",
     "text": [
      "按列指定DataFrame的值\n",
      "   A          B    C  D      E    F\n",
      "0  1 2013-01-02  1.0  3   test  foo\n",
      "1  1 2013-01-02  1.0  3  train  foo\n",
      "2  1 2013-01-02  1.0  3   test  foo\n",
      "3  1 2013-01-02  1.0  3  train  foo\n"
     ]
    }
   ],
   "source": [
    "\n",
    "# dates = pd.date_range('20160101',periods=6)\n",
    "# print(\"dates作为行索引，columns作为列索引：\")\n",
    "# df = pd.DataFrame(np.random.randn(6,4),index=dates,columns=['a','b','c','d'])\n",
    "# print(df) \n",
    "# print()\n",
    "\n",
    "print(\"按列指定DataFrame的值\")\n",
    "df2 = pd.DataFrame(\n",
    "                    {\n",
    "                    'A' : 1,\n",
    "                    'B' : pd.Timestamp('20130102'),\n",
    "                    'C' : pd.Series(1,index=list(range(4)),dtype='float32'),\n",
    "                    'D' : np.array([3] * 4,dtype='int32'),\n",
    "                    'E' : pd.Categorical([\"test\",\"train\",\"test\",\"train\"]),\n",
    "                    'F' : 'foo'\n",
    "                    }\n",
    "                  )                \n",
    "print(df2)\n",
    "\n"
   ]
  },
  {
   "cell_type": "markdown",
   "metadata": {},
   "source": [
    "# 3. pandas中的函数\n",
    "## 3.1 isnull 和 notnull 函数 以及 Series的实例方法\n",
    "用于检检测缺失数据"
   ]
  },
  {
   "cell_type": "code",
   "execution_count": 12,
   "metadata": {},
   "outputs": [
    {
     "name": "stdout",
     "output_type": "stream",
     "text": [
      "California        NaN\n",
      "Ohio          35000.0\n",
      "Oregon        16000.0\n",
      "Texas         71000.0\n",
      "dtype: float64\n",
      "\n",
      "California     True\n",
      "Ohio          False\n",
      "Oregon        False\n",
      "Texas         False\n",
      "dtype: bool\n",
      "\n",
      "California     True\n",
      "Ohio          False\n",
      "Oregon        False\n",
      "Texas         False\n",
      "dtype: bool\n",
      "\n",
      "California    False\n",
      "Ohio           True\n",
      "Oregon         True\n",
      "Texas          True\n",
      "dtype: bool\n"
     ]
    }
   ],
   "source": [
    "sdata = {'Ohio': 35000, 'Texas': 71000, 'Oregon': 16000, 'Utah': 5000}\n",
    "states = ['California', 'Ohio', 'Oregon', 'Texas']\n",
    "temp = pd.Series(sdata,index=states)\n",
    "print(temp)\n",
    "print()\n",
    "\n",
    "print(pd.isnull(temp))\n",
    "print()\n",
    "\n",
    "print(temp.isnull())\n",
    "print()\n",
    "\n",
    "print(pd.notnull(temp))"
   ]
  }
 ],
 "metadata": {
  "kernelspec": {
   "display_name": "Python 3",
   "language": "python",
   "name": "python3"
  },
  "language_info": {
   "codemirror_mode": {
    "name": "ipython",
    "version": 3
   },
   "file_extension": ".py",
   "mimetype": "text/x-python",
   "name": "python",
   "nbconvert_exporter": "python",
   "pygments_lexer": "ipython3",
   "version": "3.6.8"
  }
 },
 "nbformat": 4,
 "nbformat_minor": 2
}
