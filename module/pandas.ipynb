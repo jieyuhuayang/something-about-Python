{
 "cells": [
  {
   "cell_type": "code",
   "execution_count": 1,
   "metadata": {},
   "outputs": [],
   "source": [
    "import pandas as pd\n",
    "import numpy as np\n",
    "import matplotlib.pyplot as plt"
   ]
  },
  {
   "cell_type": "markdown",
   "metadata": {},
   "source": [
    "# 1. pandas 介绍\n",
    "1.1 Pandas处理以下三个数据结构，这些数据结构构建在Numpy数组之上，这意味着它们很快。 \n",
    "- 系列(Series)\n",
    "- 数据帧(DataFrame)\n",
    "- 面板(Panel)  \n"
   ]
  },
  {
   "cell_type": "markdown",
   "metadata": {},
   "source": [
    "## Series  \n",
    "Series的字符串表现形式为：索引在左边，值在右边。如果没有为数据指定索引会自动创建一个0到N-1（N为长度）的整数型索引。  \n",
    "\n",
    "所有Pandas数据结构是**值可变的**(可以更改)，除了Series(系列)都是大小可变的。Series是大小不变的。"
   ]
  },
  {
   "cell_type": "code",
   "execution_count": null,
   "metadata": {},
   "outputs": [],
   "source": [
    "# # 使用传递的值列表序列创建序列, 让pandas创建默认整数索引\n",
    "s = pd.Series( [1,3,6,np.nan,44,1] )\n",
    "print(s);\n"
   ]
  },
  {
   "cell_type": "markdown",
   "metadata": {},
   "source": [
    "# 1.创建对象"
   ]
  },
  {
   "cell_type": "code",
   "execution_count": null,
   "metadata": {},
   "outputs": [],
   "source": [
    "# 使用传递的值列表序列创建序列, 让pandas创建默认整数索引\n",
    "s = pd.Series([1,3,5,np.nan,6,8])\n",
    "print(s)"
   ]
  },
  {
   "cell_type": "markdown",
   "metadata": {},
   "source": [
    "## DataFrame  \n",
    "DataFrame是一个表格型的数据结构，它包含有一组有序的**列**，每列可以是不同的值类型（数值，字符串，布尔值等）。"
   ]
  },
  {
   "cell_type": "code",
   "execution_count": null,
   "metadata": {},
   "outputs": [],
   "source": [
    "df1 = pd.DataFrame(np.arange(12).reshape((3,4)))\n",
    "print(\"pd.DataFrame(np.arange(12).reshape((3,4))):\")\n",
    "print(df1)\n",
    "\n",
    "print(\"--\"*16)\n",
    "dates = pd.date_range('20160101',periods=6)\n",
    "print(\"dates作为行索引，columns作为列索引：\")\n",
    "df = pd.DataFrame(np.random.randn(6,4),index=dates,columns=['a','b','c','d'])\n",
    "print(df) \n",
    "print()\n",
    "\n",
    "print(\"按列指定DataFrame的值\")\n",
    "df2 = pd.DataFrame(\n",
    "                    {\n",
    "                    'A' : 1.,\n",
    "                    'B' : pd.Timestamp('20130102'),\n",
    "                    'C' : pd.Series(1,index=list(range(4)),dtype='float32'),\n",
    "                    'D' : np.array([3] * 4,dtype='int32'),\n",
    "                    'E' : pd.Categorical([\"test\",\"train\",\"test\",\"train\"]),\n",
    "                    'F' : 'foo'\n",
    "                    }\n",
    "                  )                \n",
    "print(df2)\n",
    "\n"
   ]
  }
 ],
 "metadata": {
  "kernelspec": {
   "display_name": "Python 3",
   "language": "python",
   "name": "python3"
  },
  "language_info": {
   "codemirror_mode": {
    "name": "ipython",
    "version": 3
   },
   "file_extension": ".py",
   "mimetype": "text/x-python",
   "name": "python",
   "nbconvert_exporter": "python",
   "pygments_lexer": "ipython3",
   "version": "3.6.8"
  }
 },
 "nbformat": 4,
 "nbformat_minor": 2
}
