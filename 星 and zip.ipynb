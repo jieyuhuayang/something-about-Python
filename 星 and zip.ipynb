{
 "cells": [
  {
   "cell_type": "markdown",
   "metadata": {},
   "source": [
    "# * : 拆分可迭代的变量"
   ]
  },
  {
   "cell_type": "code",
   "execution_count": 3,
   "metadata": {},
   "outputs": [
    {
     "name": "stdout",
     "output_type": "stream",
     "text": [
      "[0, 1, 2, 3, 4, 5, 6, 7, 8, 9, 10, 11, 12, 13, 14, 15, 16, 17, 18, 19]\n",
      "0 1 2 3 4 5 6 7 8 9 10 11 12 13 14 15 16 17 18 19\n",
      "<class 'tuple'>\n",
      "[0, 1, 2, 3, 4, 5, 6, 7, 8, 9, 10, 11, 12, 13, 14, 15, 16, 17, 18, 19]\n",
      "<class 'tuple'>\n",
      "0\n",
      "1\n",
      "2\n",
      "3\n",
      "4\n",
      "5\n",
      "6\n",
      "7\n",
      "8\n",
      "9\n",
      "10\n",
      "11\n",
      "12\n",
      "13\n",
      "14\n",
      "15\n",
      "16\n",
      "17\n",
      "18\n",
      "19\n"
     ]
    }
   ],
   "source": [
    "temp = list(range(0,20))\n",
    "print(temp)\n",
    "print(*temp)\n",
    "\n",
    "def spli(*args):\n",
    "    print(type(args))\n",
    "    for item in args:\n",
    "        print(item)\n",
    "        \n",
    "spli(temp)\n",
    "spli(*temp)"
   ]
  },
  {
   "cell_type": "markdown",
   "metadata": {},
   "source": [
    "# zip\n",
    "将可迭代的对象作为参数，将每个对象中**每一个对应的元素**打包成一个个元组，然后返回由这些**元组组成的对象**，这样做的好处是节约了不少的内存。"
   ]
  },
  {
   "cell_type": "code",
   "execution_count": 12,
   "metadata": {},
   "outputs": [
    {
     "name": "stdout",
     "output_type": "stream",
     "text": [
      "<class 'zip'>\n",
      "<zip object at 0x000001FA0E6DF988>\n",
      "[(1, 4), (2, 5), (3, 6)]\n",
      "[(1, 7), (2, 8), (3, 9)] 就短不就长\n",
      "(1, 4) (2, 5) (3, 6)\n",
      "(1, 2, 3) (4, 5, 6)\n"
     ]
    }
   ],
   "source": [
    "a = [1,2,3]\n",
    "b = [4,5,6]\n",
    "c = [7,8,9,10,11]\n",
    "\n",
    "zipped = zip(a,b)\n",
    "\n",
    "print(type(zipped))\n",
    "print(zipped)\n",
    "print(list(zipped))\n",
    "\n",
    "print(list(zip(a,c)),'就短不就长') # 就短不就长\n",
    "\n",
    "a1, a2 = zip(*zip(a,b))  \n",
    "print(*zip(a,b))\n",
    "print(a1,a2)"
   ]
  }
 ],
 "metadata": {
  "kernelspec": {
   "display_name": "Python 3",
   "language": "python",
   "name": "python3"
  },
  "language_info": {
   "codemirror_mode": {
    "name": "ipython",
    "version": 3
   },
   "file_extension": ".py",
   "mimetype": "text/x-python",
   "name": "python",
   "nbconvert_exporter": "python",
   "pygments_lexer": "ipython3",
   "version": "3.6.8"
  }
 },
 "nbformat": 4,
 "nbformat_minor": 2
}
